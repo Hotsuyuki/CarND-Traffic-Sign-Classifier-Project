{
 "cells": [
  {
   "cell_type": "markdown",
   "metadata": {},
   "source": [
    "# Self-Driving Car Engineer Nanodegree\n",
    "\n",
    "## Deep Learning\n",
    "\n",
    "## Project: Build a Traffic Sign Recognition Classifier\n",
    "\n",
    "In this notebook, a template is provided for you to implement your functionality in stages, which is required to successfully complete this project. If additional code is required that cannot be included in the notebook, be sure that the Python code is successfully imported and included in your submission if necessary. \n",
    "\n",
    "> **Note**: Once you have completed all of the code implementations, you need to finalize your work by exporting the iPython Notebook as an HTML document. Before exporting the notebook to html, all of the code cells need to have been run so that reviewers can see the final implementation and output. You can then export the notebook by using the menu above and navigating to  \\n\",\n",
    "    \"**File -> Download as -> HTML (.html)**. Include the finished document along with this notebook as your submission. \n",
    "\n",
    "In addition to implementing code, there is a writeup to complete. The writeup should be completed in a separate file, which can be either a markdown file or a pdf document. There is a [write up template](https://github.com/udacity/CarND-Traffic-Sign-Classifier-Project/blob/master/writeup_template.md) that can be used to guide the writing process. Completing the code template and writeup template will cover all of the [rubric points](https://review.udacity.com/#!/rubrics/481/view) for this project.\n",
    "\n",
    "The [rubric](https://review.udacity.com/#!/rubrics/481/view) contains \"Stand Out Suggestions\" for enhancing the project beyond the minimum requirements. The stand out suggestions are optional. If you decide to pursue the \"stand out suggestions\", you can include the code in this Ipython notebook and also discuss the results in the writeup file.\n",
    "\n",
    "\n",
    ">**Note:** Code and Markdown cells can be executed using the **Shift + Enter** keyboard shortcut. In addition, Markdown cells can be edited by typically double-clicking the cell to enter edit mode."
   ]
  },
  {
   "cell_type": "markdown",
   "metadata": {},
   "source": [
    "---\n",
    "## Step 0: Load The Data"
   ]
  },
  {
   "cell_type": "code",
   "execution_count": 3,
   "metadata": {
    "collapsed": true
   },
   "outputs": [],
   "source": [
    "# Load pickled data\n",
    "import pickle\n",
    "\n",
    "# TODO: Fill this in based on where you saved the training and testing data\n",
    "\n",
    "training_file = './train.p'\n",
    "validation_file= './valid.p'\n",
    "testing_file = './test.p'\n",
    "\n",
    "with open(training_file, mode='rb') as f:\n",
    "    train = pickle.load(f)\n",
    "with open(validation_file, mode='rb') as f:\n",
    "    valid = pickle.load(f)\n",
    "with open(testing_file, mode='rb') as f:\n",
    "    test = pickle.load(f)\n",
    "    \n",
    "X_train, y_train = train['features'], train['labels']\n",
    "X_valid, y_valid = valid['features'], valid['labels']\n",
    "X_test, y_test = test['features'], test['labels']\n",
    "\n",
    "assert(len(X_train) == len(y_train))\n",
    "assert(len(X_valid) == len(y_valid))\n",
    "assert(len(X_test) == len(y_test))"
   ]
  },
  {
   "cell_type": "markdown",
   "metadata": {},
   "source": [
    "---\n",
    "\n",
    "## Step 1: Dataset Summary & Exploration\n",
    "\n",
    "The pickled data is a dictionary with 4 key/value pairs:\n",
    "\n",
    "- `'features'` is a 4D array containing raw pixel data of the traffic sign images, (num examples, width, height, RGBchannels).\n",
    "- `'labels'` is a 1D array containing the label/class id of the traffic sign. The file `signnames.csv` contains id -> name mappings for each id.\n",
    "- `'sizes'` is a list containing tuples, (width, height) representing the original width and height the image.\n",
    "- `'coords'` is a list containing tuples, (x1, y1, x2, y2) representing coordinates of a bounding box around the sign in the image. **THESE COORDINATES ASSUME THE ORIGINAL IMAGE. THE PICKLED DATA CONTAINS RESIZED VERSIONS (32 by 32) OF THESE IMAGES**\n",
    "\n",
    "Complete the basic data summary below. Use python, numpy and/or pandas methods to calculate the data summary rather than hard coding the results. For example, the [pandas shape method](http://pandas.pydata.org/pandas-docs/stable/generated/pandas.DataFrame.shape.html) might be useful for calculating some of the summary results. "
   ]
  },
  {
   "cell_type": "markdown",
   "metadata": {},
   "source": [
    "### Provide a Basic Summary of the Data Set Using Python, Numpy and/or Pandas"
   ]
  },
  {
   "cell_type": "code",
   "execution_count": 4,
   "metadata": {},
   "outputs": [
    {
     "name": "stdout",
     "output_type": "stream",
     "text": [
      "Number of training examples = 34799\n",
      "Number of validation examples = 4410\n",
      "Number of testing examples = 12630\n",
      "Image data shape = (32, 32, 3)\n",
      "Number of classes = 43\n"
     ]
    }
   ],
   "source": [
    "### Replace each question mark with the appropriate value. \n",
    "### Use python, pandas or numpy methods rather than hard coding the results\n",
    "\n",
    "import numpy as np\n",
    "\n",
    "# TODO: Number of training examples\n",
    "n_train = len(X_train)\n",
    "\n",
    "# TODO: Number of validation examples\n",
    "n_valid = len(X_valid)\n",
    "\n",
    "# TODO: Number of testing examples.\n",
    "n_test = len(X_test)\n",
    "\n",
    "# TODO: What's the shape of an traffic sign image?\n",
    "image_shape = X_train[0].shape\n",
    "\n",
    "# TODO: How many unique classes/labels there are in the dataset.\n",
    "n_classes = np.unique(y_train).shape[0]\n",
    "\n",
    "print(\"Number of training examples =\", n_train)\n",
    "print(\"Number of validation examples =\", n_valid)\n",
    "print(\"Number of testing examples =\", n_test)\n",
    "print(\"Image data shape =\", image_shape)\n",
    "print(\"Number of classes =\", n_classes)\n",
    "\n",
    "#print(\"X_train[0] is \\n\" + str(X_train[0])) ... That shows the train data has not been normarized yet."
   ]
  },
  {
   "cell_type": "markdown",
   "metadata": {},
   "source": [
    "### Include an exploratory visualization of the dataset"
   ]
  },
  {
   "cell_type": "markdown",
   "metadata": {},
   "source": [
    "Visualize the German Traffic Signs Dataset using the pickled file(s). This is open ended, suggestions include: plotting traffic sign images, plotting the count of each sign, etc. \n",
    "\n",
    "The [Matplotlib](http://matplotlib.org/) [examples](http://matplotlib.org/examples/index.html) and [gallery](http://matplotlib.org/gallery.html) pages are a great resource for doing visualizations in Python.\n",
    "\n",
    "**NOTE:** It's recommended you start with something simple first. If you wish to do more, come back to it after you've completed the rest of the sections. It can be interesting to look at the distribution of classes in the training, validation and test set. Is the distribution the same? Are there more examples of some classes than others?"
   ]
  },
  {
   "cell_type": "code",
   "execution_count": 73,
   "metadata": {},
   "outputs": [
    {
     "data": {
      "image/png": "[encoded data removed]",
      "text/plain": [
       "<matplotlib.figure.Figure at 0x7fbc8d7c0780>"
      ]
     },
     "metadata": {},
     "output_type": "display_data"
    },
    {
     "data": {
      "image/png": "[encoded data removed]",
      "text/plain": [
       "<matplotlib.figure.Figure at 0x7fbc8d308c88>"
      ]
     },
     "metadata": {},
     "output_type": "display_data"
    },
    {
     "data": {
      "image/png": "[encoded data removed]",
      "text/plain": [
       "<matplotlib.figure.Figure at 0x7fbc8f2289b0>"
      ]
     },
     "metadata": {},
     "output_type": "display_data"
    }
   ],
   "source": [
    "### Data exploration visualization code goes here.\n",
    "### Feel free to use as many code cells as needed.\n",
    "\n",
    "import matplotlib.pyplot as plt; plt.rcdefaults()\n",
    "import matplotlib.pyplot as plt\n",
    "# Visualizations will be shown in the notebook.\n",
    "%matplotlib inline\n",
    "import random\n",
    "\n",
    "\n",
    "''' Count the number of images '''\n",
    "# Train dataset\n",
    "n_labels = np.zeros(n_classes)\n",
    "for i in range(n_classes):\n",
    "    for j in range(n_train):\n",
    "        if (y_train[j] == i):\n",
    "            n_labels[i] += 1\n",
    "\n",
    "plt.subplots(figsize=(15,5))\n",
    "plt.xlabel('label')\n",
    "plt.ylabel('number of images')\n",
    "plt.title('Dataset distribution in train data')\n",
    "y_pos = np.arange(n_classes)\n",
    "barlist = plt.bar(y_pos, n_labels, align='center', color='gray')\n",
    "plt.xticks(y_pos, np.arange(n_classes))\n",
    "plt.show()\n",
    "\n",
    "# Valid dataset\n",
    "n_labels = np.zeros(n_classes)\n",
    "for i in range(n_classes):\n",
    "    for j in range(n_valid):\n",
    "        if (y_valid[j] == i):\n",
    "            n_labels[i] += 1\n",
    "            \n",
    "plt.subplots(figsize=(15,5))\n",
    "plt.xlabel('label')\n",
    "plt.ylabel('number of images')\n",
    "plt.title('Dataset distribution in valid data')\n",
    "y_pos = np.arange(n_classes)\n",
    "barlist = plt.bar(y_pos, n_labels, align='center', color='gray')\n",
    "plt.xticks(y_pos, np.arange(n_classes))\n",
    "plt.show()\n",
    "\n",
    "# Test dataset\n",
    "n_labels = np.zeros(n_classes)\n",
    "for i in range(n_classes):\n",
    "    for j in range(n_test):\n",
    "        if (y_test[j] == i):\n",
    "            n_labels[i] += 1\n",
    "            \n",
    "plt.subplots(figsize=(15,5))\n",
    "plt.xlabel('label')\n",
    "plt.ylabel('number of images')\n",
    "plt.title('Dataset distribution in test data')\n",
    "y_pos = np.arange(n_classes)\n",
    "barlist = plt.bar(y_pos, n_labels, align='center', color='gray')\n",
    "plt.xticks(y_pos, np.arange(n_classes))\n",
    "plt.show()"
   ]
  },
  {
   "cell_type": "markdown",
   "metadata": {},
   "source": [
    "----\n",
    "\n",
    "## Step 2: Design and Test a Model Architecture\n",
    "\n",
    "Design and implement a deep learning model that learns to recognize traffic signs. Train and test your model on the [German Traffic Sign Dataset](http://benchmark.ini.rub.de/?section=gtsrb&subsection=dataset).\n",
    "\n",
    "The LeNet-5 implementation shown in the [classroom](https://classroom.udacity.com/nanodegrees/nd013/parts/fbf77062-5703-404e-b60c-95b78b2f3f9e/modules/6df7ae49-c61c-4bb2-a23e-6527e69209ec/lessons/601ae704-1035-4287-8b11-e2c2716217ad/concepts/d4aca031-508f-4e0b-b493-e7b706120f81) at the end of the CNN lesson is a solid starting point. You'll have to change the number of classes and possibly the preprocessing, but aside from that it's plug and play! \n",
    "\n",
    "With the LeNet-5 solution from the lecture, you should expect a validation set accuracy of about 0.89. To meet specifications, the validation set accuracy will need to be at least 0.93. It is possible to get an even higher accuracy, but 0.93 is the minimum for a successful project submission. \n",
    "\n",
    "There are various aspects to consider when thinking about this problem:\n",
    "\n",
    "- Neural network architecture (is the network over or underfitting?)\n",
    "- Play around preprocessing techniques (normalization, rgb to grayscale, etc)\n",
    "- Number of examples per label (some have more than others).\n",
    "- Generate fake data.\n",
    "\n",
    "Here is an example of a [published baseline model on this problem](http://yann.lecun.com/exdb/publis/pdf/sermanet-ijcnn-11.pdf). It's not required to be familiar with the approach used in the paper but, it's good practice to try to read papers like these."
   ]
  },
  {
   "cell_type": "markdown",
   "metadata": {},
   "source": [
    "#### Pre-process the Data Set (normalization, grayscale, etc.)"
   ]
  },
  {
   "cell_type": "markdown",
   "metadata": {},
   "source": [
    "Minimally, the image data should be normalized so that the data has mean zero and equal variance. For image data, `(pixel - 128)/ 128` is a quick way to approximately normalize the data and can be used in this project. \n",
    "\n",
    "Other pre-processing steps are optional. You can try different techniques to see if it improves performance. \n",
    "\n",
    "Use the code cell (or multiple code cells, if necessary) to implement the first step of your project."
   ]
  },
  {
   "cell_type": "code",
   "execution_count": 62,
   "metadata": {},
   "outputs": [
    {
     "name": "stdout",
     "output_type": "stream",
     "text": [
      "Rotating...\n",
      "The train data has been rotated\n",
      "Translating...\n",
      "The train data has been translated\n",
      "Zooming...\n",
      "The train data has been zoomed\n",
      "Flipping...\n",
      "The train data has been fliiped\n",
      "The augmented data has been added\n",
      "Grayscaling...\n",
      "The train data has been grayscaled\n",
      "Normarizing...\n",
      "The train data has been normarized\n",
      "The shape of loaded X_train is  (334760, 32, 32, 1)\n",
      "The shape of loaded y_train is  (334760,)\n",
      "The train data has been augmented by a factor of 9.6\n",
      "Image data shape = (32, 32, 1)\n",
      "The train data has been shuffled\n",
      "Saving...\n",
      "The train data has been saved\n"
     ]
    }
   ],
   "source": [
    "### Preprocess the data here. It is required to normalize the data. Other preprocessing steps could include \n",
    "### converting to grayscale, etc.\n",
    "### Feel free to use as many code cells as needed.\n",
    "\n",
    "import cv2\n",
    "from sklearn.utils import shuffle\n",
    "\n",
    "\n",
    "''' Rotate the train data (15[deg] & -15[deg])'''\n",
    "print(\"Rotating...\")\n",
    "rows, cols = X_train.shape[1], X_train.shape[2]\n",
    "rotate_X_train = {\n",
    "    'ccw':np.copy(X_train),\n",
    "    'cw':np.copy(X_train)\n",
    "}\n",
    "rotate_M = {\n",
    "    'ccw':cv2.getRotationMatrix2D((cols/2,rows/2), 15, 1),\n",
    "    'cw':cv2.getRotationMatrix2D((cols/2,rows/2), -15, 1)\n",
    "}\n",
    "for direction in ['ccw', 'cw']:\n",
    "    for i in range(n_train):\n",
    "        rotate_X_train[direction][i] = cv2.warpAffine(X_train[i], rotate_M[direction], (cols,rows))\n",
    "print(\"The train data has been rotated\")\n",
    "\n",
    "        \n",
    "''' Translate the train data (2pixels prallel move to four corner) '''\n",
    "print(\"Translating...\")\n",
    "pixels = 2\n",
    "rows, cols = X_train.shape[1], X_train.shape[2]\n",
    "translate_X_train = {\n",
    "    'topleft':np.copy(X_train), 'topright':np.copy(X_train),\n",
    "    'bottomleft':np.copy(X_train), 'bottomright':np.copy(X_train)\n",
    "}\n",
    "translate_M = {\n",
    "    'topleft':np.float32([[1,0,-pixels], [0,1,-pixels]]), 'topright':np.float32([[1,0,pixels], [0,1,-pixels]]),\n",
    "    'bottomleft':np.float32([[1,0,-pixels], [0,1,pixels]]), 'bottomright':np.float32([[1,0,pixels], [0,1,pixels]])\n",
    "}\n",
    "for direction in ['topleft', 'topright', 'bottomleft', 'bottomright']:\n",
    "    for i in range(n_train):\n",
    "        translate_X_train[direction][i] = cv2.warpAffine(X_train[i], translate_M[direction], (cols,rows))\n",
    "print(\"The train data has been translated\")\n",
    "\n",
    "\n",
    "''' Zoom the train data (2pixels zoom up & down)'''\n",
    "print(\"Zooming...\")\n",
    "pixels = 2\n",
    "zoom_X_train = {\n",
    "    'up':np.copy(X_train),\n",
    "    'down':np.copy(X_train)\n",
    "}\n",
    "ratio = {\n",
    "    'up':(image_shape[0]+2*pixels)/image_shape[0],\n",
    "    'down':(image_shape[0]-2*pixels)/image_shape[0]\n",
    "}\n",
    "for direction in ['up', 'down']:\n",
    "    for i in range(n_train):\n",
    "        zoomed_image = cv2.resize(X_train[i], None, fx=ratio[direction], fy=ratio[direction], interpolation=cv2.INTER_CUBIC)\n",
    "        if (direction == 'up'):\n",
    "            zoomed_image = zoomed_image[pixels:pixels+image_shape[0], pixels:pixels+image_shape[0]]\n",
    "        elif (direction == 'down'):\n",
    "            zoomed_image = np.pad(zoomed_image, ((pixels,pixels),(pixels,pixels), (0,0)), 'constant')\n",
    "        zoom_X_train[direction][i] = zoomed_image\n",
    "print(\"The train data has been zoomed\")\n",
    "\n",
    "\n",
    "''' Flip the train data (https://navoshta.com/traffic-signs-classification/) '''\n",
    "print(\"Flipping...\")\n",
    "# Classes of signs that, when flipped horizontally, should still be classified as the same class\n",
    "flippable_horizontally = np.array([11, 12, 13, 15, 17, 18, 22, 26, 30, 35])\n",
    "# Classes of signs that, when flipped vertically, should still be classified as the same class\n",
    "flippable_vertically = np.array([1, 5, 12, 15, 17])\n",
    "# Classes of signs that, when flipped horizontally and then vertically, should still be classified as the same class\n",
    "flippable_both = np.array([32, 40])\n",
    "# Classes of signs that, when flipped horizontally, would still be meaningful, but should be classified as some other class\n",
    "cross_flippable = np.array([\n",
    "        [19, 20], \n",
    "        [33, 34], \n",
    "        [36, 37], \n",
    "        [38, 39],\n",
    "        [20, 19], \n",
    "        [34, 33], \n",
    "        [37, 36], \n",
    "        [39, 38],   \n",
    "    ])\n",
    "# Initialize `flip_X_train` whose shape is same as `X_train` with zeros.\n",
    "flip_X_train = np.zeros(np.append(1, X_train[0].shape))\n",
    "flip_y_train = np.array([])\n",
    "for i in range(n_train):\n",
    "    if (y_train[i] in flippable_horizontally):\n",
    "        flip_X_train = np.append(flip_X_train, np.expand_dims(cv2.flip(X_train[i],1),axis=0), axis=0)\n",
    "        flip_y_train = np.append(flip_y_train, y_train[i])\n",
    "    if (y_train[i] in flippable_vertically):\n",
    "        flip_X_train = np.append(flip_X_train, np.expand_dims(cv2.flip(X_train[i],0),axis=0), axis=0)\n",
    "        flip_y_train = np.append(flip_y_train, y_train[i])\n",
    "    if (y_train[i] in flippable_both):\n",
    "        flip_X_train = np.append(flip_X_train, np.expand_dims(cv2.flip(X_train[i],-1),axis=0), axis=0)\n",
    "        flip_y_train = np.append(flip_y_train, y_train[i])\n",
    "    if (y_train[i] in cross_flippable[:, 0]):\n",
    "        flip_X_train = np.append(flip_X_train, np.expand_dims(cv2.flip(X_train[i],1),axis=0), axis=0)\n",
    "        flip_y_train = np.append(flip_y_train, cross_flippable[y_train[i]==cross_flippable[:,0], 1])\n",
    "# Trancate the first element of `flip_X_train` that all elements are zeros, and cast to uint8 for RGB.\n",
    "# (N+1)x32x32xC ---> Nx32x32xC\n",
    "flip_X_train = flip_X_train[1: , ...].astype(np.uint8)\n",
    "print(\"The train data has been fliiped\")\n",
    "\n",
    "\n",
    "''' Add all augmentied data '''\n",
    "# Save the original `y_train`  before adding\n",
    "original_y_train = np.copy(y_train)\n",
    "# Add rotated data\n",
    "for direction in ['ccw', 'cw']:\n",
    "    assert(rotate_X_train[direction].shape[0] == original_y_train.shape[0])\n",
    "    X_train = np.append(X_train, rotate_X_train[direction], axis=0)\n",
    "    y_train = np.append(y_train, original_y_train, axis=0)\n",
    "# Add translated data\n",
    "for direction in ['topleft', 'topright', 'bottomleft', 'bottomright']:\n",
    "    assert(translate_X_train[direction].shape[0] == original_y_train.shape[0])\n",
    "    X_train = np.append(X_train, translate_X_train[direction], axis=0)\n",
    "    y_train = np.append(y_train, original_y_train, axis=0)\n",
    "#Add zoomed data\n",
    "for direction in ['up', 'down']:\n",
    "    assert(zoom_X_train[direction].shape[0] == original_y_train.shape[0])\n",
    "    X_train = np.append(X_train, zoom_X_train[direction], axis=0)\n",
    "    y_train = np.append(y_train, original_y_train, axis=0)\n",
    "# Add flipped data\n",
    "assert(flip_X_train.shape[0] == flip_y_train.shape[0])\n",
    "X_train = np.append(X_train, flip_X_train, axis=0)\n",
    "y_train = np.append(y_train, flip_y_train, axis=0)\n",
    "print(\"The augmented data has been added\")\n",
    "\n",
    "\n",
    "''' Grayscale the train data '''\n",
    "print(\"Grayscaling...\")\n",
    "for i in range(n_train):\n",
    "    X_train[i] = np.expand_dims(cv2.cvtColor(X_train[i], cv2.COLOR_RGB2GRAY), axis=3)\n",
    "# Nx32x32x3 ---> Nx32x32x1\n",
    "X_train = X_train[:, :, :, 0:1]\n",
    "print(\"The train data has been grayscaled\")\n",
    "\n",
    "\n",
    "''' Normarize the train data '''\n",
    "print(\"Normarizing...\")\n",
    "X_train = (X_train - np.mean(X_train)) / np.mean(X_train)\n",
    "print(\"The train data has been normarized\")\n",
    "\n",
    "\n",
    "''' Confirm the shape '''\n",
    "print(\"The shape of loaded X_train is \", X_train.shape)\n",
    "print(\"The shape of loaded y_train is \", y_train.shape)\n",
    "print(\"The train data has been augmented by a factor of {:.1f}\".format(X_train.shape[0]/n_train))\n",
    "# Update the shape of a single image\n",
    "image_shape = X_train[0].shape\n",
    "print(\"Image data shape =\", image_shape)\n",
    "\n",
    "\n",
    "''' Shuffle the training data '''\n",
    "X_train, y_train = shuffle(X_train, y_train)\n",
    "print(\"The train data has been shuffled\")\n",
    "\n",
    "\n",
    "''' Save the augmented train data '''\n",
    "print(\"Saving...\")\n",
    "X_train_file = './augmented_X_train.p'\n",
    "y_train_file = './augmented_y_train.p'\n",
    "with open(X_train_file, mode='wb') as f:\n",
    "    pickle.dump(X_train, f)\n",
    "with open(y_train_file, mode='wb') as f:\n",
    "    pickle.dump(y_train, f)\n",
    "print(\"The train data has been saved\")"
   ]
  },
  {
   "cell_type": "markdown",
   "metadata": {},
   "source": [
    "### Load the augmented train data using pickle"
   ]
  },
  {
   "cell_type": "code",
   "execution_count": 5,
   "metadata": {},
   "outputs": [
    {
     "name": "stdout",
     "output_type": "stream",
     "text": [
      "Loading...\n",
      "The train data has been loaded\n",
      "The shape of loaded X_train is  (334760, 32, 32, 1)\n",
      "The shape of loaded y_train is  (334760,)\n",
      "The train data has been augmented by a factor of 9.6\n",
      "Image data shape = (32, 32, 1)\n"
     ]
    }
   ],
   "source": [
    "''' Load the augmented train data '''\n",
    "print(\"Loading...\")\n",
    "X_train_file = './augmented_X_train.p'\n",
    "y_train_file = './augmented_y_train.p'\n",
    "with open(X_train_file, mode='rb') as f:\n",
    "    X_train = pickle.load(f)\n",
    "with open(y_train_file, mode='rb') as f:\n",
    "    y_train = pickle.load(f)\n",
    "print(\"The train data has been loaded\")\n",
    "\n",
    "print(\"The shape of loaded X_train is \", X_train.shape)\n",
    "print(\"The shape of loaded y_train is \", y_train.shape)\n",
    "print(\"The train data has been augmented by a factor of {:.1f}\".format(X_train.shape[0]/n_train))\n",
    "# Update the shape of a single image\n",
    "image_shape = X_train[0].shape\n",
    "print(\"Image data shape =\", image_shape)"
   ]
  },
  {
   "cell_type": "markdown",
   "metadata": {},
   "source": [
    "### Grayscale and Normalize the valid data"
   ]
  },
  {
   "cell_type": "code",
   "execution_count": 6,
   "metadata": {},
   "outputs": [
    {
     "name": "stdout",
     "output_type": "stream",
     "text": [
      "Grayscaling...\n",
      "The valid data has been grayscaled\n",
      "\n",
      "Normarizing...\n",
      "The value data has been normarized\n",
      "\n",
      "The shape of  X_valid is  (4410, 32, 32, 1)\n",
      "The shape of  y_valid is  (4410,)\n"
     ]
    }
   ],
   "source": [
    "import cv2\n",
    "\n",
    "\n",
    "''' Grayscale the valid data '''\n",
    "print(\"Grayscaling...\")\n",
    "for i in range(n_valid):\n",
    "    X_valid[i] = np.expand_dims(cv2.cvtColor(X_valid[i], cv2.COLOR_RGB2GRAY), axis=3)\n",
    "# Nx32x32x3 ---> Nx32x32x1\n",
    "X_valid = X_valid[:, :, :, 0:1]\n",
    "print(\"The valid data has been grayscaled\\n\")\n",
    "\n",
    "\n",
    "''' Normarize the valid data '''\n",
    "print(\"Normarizing...\")\n",
    "X_valid = (X_valid - np.mean(X_valid)) / np.mean(X_valid)\n",
    "print(\"The value data has been normarized\\n\")\n",
    "\n",
    "\n",
    "print(\"The shape of  X_valid is \", X_valid.shape)\n",
    "print(\"The shape of  y_valid is \", y_valid.shape)"
   ]
  },
  {
   "cell_type": "markdown",
   "metadata": {},
   "source": [
    "### Model Architecture\n",
    "\n",
    "I used the archtecture introduced in this site, [Traffic signs classification with a convolutional network](https://navoshta.com/traffic-signs-classification/)\n",
    "\n",
    "![architecture](./architecture.png)"
   ]
  },
  {
   "cell_type": "code",
   "execution_count": 7,
   "metadata": {
    "collapsed": true
   },
   "outputs": [],
   "source": [
    "### Define your architecture here.\n",
    "### Feel free to use as many code cells as needed.\n",
    "\n",
    "import tensorflow as tf\n",
    "from tensorflow.contrib.layers import flatten\n",
    "\n",
    "\n",
    "def CNN(X, W, b):\n",
    "    \n",
    "    ''' Hyperparameters '''\n",
    "    cv_size = 5\n",
    "    pool_size = 4\n",
    "    \n",
    "    outdepth = {\n",
    "        'cv1' : 32,\n",
    "        'cv2' : 64,\n",
    "        'cv3' : 128,\n",
    "        'fc1' : 1024,\n",
    "        'fc2' : n_classes # number of label classes\n",
    "    }\n",
    "        \n",
    "    indepth = {\n",
    "        'cv1' : image_shape[2], # depth of input color channel\n",
    "        'cv2' : outdepth['cv1'],\n",
    "        'cv3' : outdepth['cv2'],\n",
    "        'fc1' : (outdepth['cv1']*pool_size**2) + (outdepth['cv2']*pool_size**2) + (outdepth['cv3']*pool_size**2),\n",
    "        'fc2' : outdepth['fc1']\n",
    "    }\n",
    "    \n",
    "    mu = 0\n",
    "    sigma = 0.1\n",
    "\n",
    "    if (W == None):\n",
    "        W = {\n",
    "            'cv1' : tf.Variable(tf.truncated_normal(shape=(cv_size,cv_size,indepth['cv1'],outdepth['cv1']), mean=mu, stddev=sigma)),\n",
    "            'cv2' : tf.Variable(tf.truncated_normal(shape=(cv_size,cv_size,indepth['cv2'],outdepth['cv2']), mean=mu, stddev=sigma)),\n",
    "            'cv3' : tf.Variable(tf.truncated_normal(shape=(cv_size,cv_size,indepth['cv3'],outdepth['cv3']), mean=mu, stddev=sigma)),\n",
    "            'fc1' : tf.Variable(tf.truncated_normal(shape=(indepth['fc1'],outdepth['fc1']), mean=mu, stddev=sigma)),\n",
    "            'fc2' : tf.Variable(tf.truncated_normal(shape=(indepth['fc2'],outdepth['fc2']), mean=mu, stddev=sigma))\n",
    "        }\n",
    "\n",
    "    if (b == None):\n",
    "        b ={\n",
    "            'cv1' : tf.Variable(tf.zeros(outdepth['cv1'])),\n",
    "            'cv2' : tf.Variable(tf.zeros(outdepth['cv2'])),\n",
    "            'cv3' : tf.Variable(tf.zeros(outdepth['cv3'])),\n",
    "            'fc1' : tf.Variable(tf.zeros(outdepth['fc1'])),\n",
    "            'fc2' : tf.Variable(tf.zeros(outdepth['fc2']))\n",
    "        }\n",
    "    \n",
    "    stride = 1\n",
    "    kernel = 2\n",
    "    \n",
    "    keep_prob = {'cv1':0.9, 'cv2':0.8, 'cv3':0.7, 'fc1':0.5}\n",
    "    \n",
    "    \n",
    "    ''' Layer1: Convolutional, input=32x32xC ---> 32x32x32 ---> output=16x16x32 '''    \n",
    "    conv1 = tf.nn.bias_add(tf.nn.conv2d(X, W['cv1'], strides=[1,stride,stride,1], padding='SAME'), b['cv1'])\n",
    "    conv1 = tf.nn.relu(conv1)\n",
    "    conv1 = tf.nn.max_pool(conv1, ksize=[1,kernel,kernel,1], strides=[1,kernel,kernel,1], padding='VALID')\n",
    "    conv1 = tf.nn.dropout(conv1, keep_prob['cv1'])\n",
    "\n",
    "    \n",
    "    ''' Layer2: Convolutional, input=16x16x32 ---> 16x16x64 ---> output=8x8x64 '''\n",
    "    conv2 = tf.nn.bias_add(tf.nn.conv2d(conv1, W['cv2'], strides=[1,stride,stride,1], padding='SAME'), b['cv2'])\n",
    "    conv2 = tf.nn.relu(conv2)\n",
    "    conv2 = tf.nn.max_pool(conv2, ksize=[1,kernel,kernel,1], strides=[1,kernel,kernel,1], padding='VALID')\n",
    "    conv2 = tf.nn.dropout(conv2, keep_prob['cv2'])\n",
    "    \n",
    "    ''' Layer3: Convolutional, input=8x8x64 ---> 8x8x128 ---> output=4x4x128 '''\n",
    "    conv3 = tf.nn.bias_add(tf.nn.conv2d(conv2, W['cv3'], strides=[1,stride,stride,1], padding='SAME'), b['cv3'])\n",
    "    conv3 = tf.nn.relu(conv3)\n",
    "    conv3 = tf.nn.max_pool(conv3, ksize=[1,kernel,kernel,1], strides=[1,kernel,kernel,1], padding='VALID')\n",
    "    conv3 = tf.nn.dropout(conv3, keep_prob['cv3'])\n",
    "    \n",
    "    ''' Flatten and Append, input=(4x4x32) + (4x4x64) + (4x4x128) ---> output=3058 '''\n",
    "    kernel = [None, int(conv1.get_shape().as_list()[1]/pool_size), int(conv2.get_shape().as_list()[1]/pool_size)]\n",
    "    fc0 = tf.concat(1, [\n",
    "        flatten(tf.nn.max_pool(conv1, ksize=[1,kernel[1],kernel[1],1], strides=[1,kernel[1],kernel[1],1], padding='VALID')),\n",
    "        flatten(tf.nn.max_pool(conv2, ksize=[1,kernel[2],kernel[2],1], strides=[1,kernel[2],kernel[2],1], padding='VALID')),\n",
    "        flatten(conv3)\n",
    "    ])\n",
    "    \n",
    "    ''' Layer4: Fully connection, input=3058 ---> output=1024 '''\n",
    "    fc1 = tf.add(tf.matmul(fc0, W['fc1']), b['fc1'])\n",
    "    fc1 = tf.nn.relu(fc1)\n",
    "    fc1 = tf.nn.dropout(fc1, keep_prob['fc1'])\n",
    "    \n",
    "    ''' Layer5: Fully connection, input=1024 ---> output=43 '''\n",
    "    logits = tf.add(tf.matmul(fc1, W['fc2']), b['fc2'])\n",
    "    \n",
    "    return logits, W, b\n",
    "\n",
    "\n",
    "def Evaluate(X_data, y_data, data_type):\n",
    "    total_accuracy = 0\n",
    "    for offset in range(0, len(X_data), BATCH_SIZE):\n",
    "        batch_X, batch_y = X_data[offset:offset+BATCH_SIZE], y_data[offset:offset+BATCH_SIZE]\n",
    "        accuracy = sess.run(accuracy_operation, feed_dict={X:batch_X, y:batch_y})\n",
    "        total_accuracy += (accuracy * len(batch_X))\n",
    "    validation_accuracy = total_accuracy / len(X_data)\n",
    "    print(\"Validation Accuracy by \"+str(data_type)+\" data = {:.3f}\".format(validation_accuracy))\n",
    "\n",
    "    # Add curren `validataion_accuracy` into global `accuracy_dict` in order to show graph\n",
    "    global accuracy_dict\n",
    "    accuracy_dict[data_type] = np.append(accuracy_dict[data_type], validation_accuracy)\n",
    "    \n",
    "    # Return the index of best `W` and `b` when overfitting (the accuracy goes under 93+3%)\n",
    "    if (data_type == 'valid'):\n",
    "        if (validation_accuracy<clear_percentage+0.03 and np.max(accuracy_dict[data_type])>=clear_percentage+0.03):\n",
    "            return np.argmax(accuracy_dict[data_type])\n",
    "        else:\n",
    "            return None\n",
    "        \n",
    "\n",
    "def Rollback(X_data, y_data, data_type, W_best, b_best):\n",
    "    # Roll back pipeline\n",
    "    rollback_logits, _, _ = CNN(X, W=W_best, b=b_best)\n",
    "    rollback_correct_prediction = tf.equal(tf.argmax(rollback_logits, 1), tf.argmax(y_one_hot, 1))\n",
    "    #print(\"rollback_correct_prediction is {}\".format(rollback_correct_prediction))\n",
    "    rollback_accuracy_operation = tf.reduce_mean(tf.cast(rollback_correct_prediction, tf.float32))\n",
    "    \n",
    "    # Evaluate the Validation Accuracy\n",
    "    total_accuracy = 0\n",
    "    for offset in range(0, len(X_data), BATCH_SIZE):\n",
    "        batch_X, batch_y = X_data[offset:offset+BATCH_SIZE], y_data[offset:offset+BATCH_SIZE]\n",
    "        accuracy = sess.run(rollback_accuracy_operation, feed_dict={X:batch_X, y:batch_y})\n",
    "        total_accuracy += (accuracy * len(batch_X))\n",
    "    validation_accuracy = total_accuracy / len(X_data)\n",
    "    print(\"[Roll backed] Validation Accuracy by \"+str(data_type)+\" data = {:.3f}\".format(validation_accuracy))"
   ]
  },
  {
   "cell_type": "markdown",
   "metadata": {},
   "source": [
    "### Train, Validate and Test the Model"
   ]
  },
  {
   "cell_type": "markdown",
   "metadata": {},
   "source": [
    "A validation set can be used to assess how well the model is performing. A low accuracy on the training and validation\n",
    "sets imply underfitting. A high accuracy on the training set but low accuracy on the validation set implies overfitting."
   ]
  },
  {
   "cell_type": "code",
   "execution_count": 8,
   "metadata": {
    "scrolled": false
   },
   "outputs": [
    {
     "name": "stdout",
     "output_type": "stream",
     "text": [
      "Training...\n",
      "\n",
      "EPOCH 1...\n",
      "Validation Accuracy by train data = 0.822\n",
      "Validation Accuracy by valid data = 0.766\n",
      "EPOCH 2...\n",
      "Validation Accuracy by train data = 0.927\n",
      "Validation Accuracy by valid data = 0.861\n",
      "EPOCH 3...\n",
      "Validation Accuracy by train data = 0.953\n",
      "Validation Accuracy by valid data = 0.890\n",
      "EPOCH 4...\n",
      "Validation Accuracy by train data = 0.967\n",
      "Validation Accuracy by valid data = 0.912\n",
      "EPOCH 5...\n",
      "Validation Accuracy by train data = 0.972\n",
      "Validation Accuracy by valid data = 0.918\n",
      "EPOCH 6...\n",
      "Validation Accuracy by train data = 0.974\n",
      "Validation Accuracy by valid data = 0.911\n",
      "EPOCH 7...\n",
      "Validation Accuracy by train data = 0.977\n",
      "Validation Accuracy by valid data = 0.940\n",
      "EPOCH 8...\n",
      "Validation Accuracy by train data = 0.981\n",
      "Validation Accuracy by valid data = 0.933\n",
      "EPOCH 9...\n",
      "Validation Accuracy by train data = 0.981\n",
      "Validation Accuracy by valid data = 0.937\n",
      "EPOCH 10...\n",
      "Validation Accuracy by train data = 0.982\n",
      "Validation Accuracy by valid data = 0.933\n",
      "EPOCH 11...\n",
      "Validation Accuracy by train data = 0.984\n",
      "Validation Accuracy by valid data = 0.942\n",
      "EPOCH 12...\n",
      "Validation Accuracy by train data = 0.985\n",
      "Validation Accuracy by valid data = 0.945\n",
      "EPOCH 13...\n",
      "Validation Accuracy by train data = 0.985\n",
      "Validation Accuracy by valid data = 0.939\n",
      "EPOCH 14...\n",
      "Validation Accuracy by train data = 0.985\n",
      "Validation Accuracy by valid data = 0.959\n",
      "EPOCH 15...\n",
      "Validation Accuracy by train data = 0.982\n",
      "Validation Accuracy by valid data = 0.946\n",
      "EPOCH 16...\n",
      "Validation Accuracy by train data = 0.984\n",
      "Validation Accuracy by valid data = 0.945\n",
      "EPOCH 17...\n",
      "Validation Accuracy by train data = 0.986\n",
      "Validation Accuracy by valid data = 0.952\n",
      "EPOCH 18...\n",
      "Validation Accuracy by train data = 0.986\n",
      "Validation Accuracy by valid data = 0.961\n",
      "EPOCH 19...\n",
      "Validation Accuracy by train data = 0.990\n",
      "Validation Accuracy by valid data = 0.957\n",
      "\n",
      "The model seems to be overfitting, so it will be rolled back to the best W and b...\n",
      "EPOCH 18...\n",
      "[Roll backed] Validation Accuracy by valid data = 0.955\n"
     ]
    },
    {
     "data": {
      "image/png": "[encoded data removed]",
      "text/plain": [
       "<matplotlib.figure.Figure at 0x7f4cd01f9e48>"
      ]
     },
     "metadata": {},
     "output_type": "display_data"
    },
    {
     "name": "stdout",
     "output_type": "stream",
     "text": [
      "Model saved\n"
     ]
    }
   ],
   "source": [
    "### Train your model here.\n",
    "### Calculate and report the accuracy on the training and validation set.\n",
    "### Once a final model architecture is selected,\n",
    "### the accuracy on the test set should be calculated and reported as well.\n",
    "### Feel free to use as many code cells as needed.\n",
    "\n",
    "from sklearn.utils import shuffle\n",
    "\n",
    "\n",
    "learning_rate = 0.001\n",
    "clear_percentage = 0.93\n",
    "beta = 0.0001 # lambda?\n",
    "\n",
    "X = tf.placeholder(tf.float32, (None, image_shape[0], image_shape[1], image_shape[2]))\n",
    "y = tf.placeholder(tf.int32, (None))\n",
    "y_one_hot = tf.one_hot(y, n_classes)\n",
    "\n",
    " # Historys of `W` and `b` in order to roll back when overfitting\n",
    "Ws, bs = np.array([]), np.array([])\n",
    "\n",
    "\n",
    "''' Training pipeline '''\n",
    "logits, W_current, b_current = CNN(X, W=None, b=None)\n",
    "cross_entropy = tf.nn.softmax_cross_entropy_with_logits(labels=y_one_hot, logits=logits)\n",
    "#print(\"cross_entorpy is {}\".format(cross_entropy))\n",
    "loss_operation = tf.reduce_mean(cross_entropy)\n",
    "regularizer = 0\n",
    "for layer in ['cv1', 'cv2', 'cv3', 'fc1', 'fc2']:\n",
    "    regularizer += tf.nn.l2_loss(W_current[layer])\n",
    "loss_operation = tf.reduce_mean(loss_operation + beta*regularizer)\n",
    "#print(\"loss_operation is {}\".format(loss_operation))\n",
    "training_operation = tf.train.AdamOptimizer(learning_rate=learning_rate).minimize(loss_operation)\n",
    "\n",
    "\n",
    "''' Model evaluation pipeline'''\n",
    "correct_prediction = tf.equal(tf.argmax(logits, 1), tf.argmax(y_one_hot, 1))\n",
    "#print(\"correct_prediction is {}\".format(correct_prediction))\n",
    "accuracy_operation = tf.reduce_mean(tf.cast(correct_prediction, tf.float32))    \n",
    "\n",
    "\n",
    "''' Train and valid the model '''\n",
    "EPOCHS = 350 #times to train\n",
    "BATCH_SIZE = 256 #images\n",
    "\n",
    "saver = tf.train.Saver()\n",
    "\n",
    "with tf.Session() as sess:\n",
    "    sess.run(tf.global_variables_initializer())\n",
    "    print(\"Training...\\n\")\n",
    "    accuracy_dict = {'train':np.array([]), 'valid':np.array([])}\n",
    "        \n",
    "    for i in range(EPOCHS):\n",
    "        print(\"EPOCH {}...\".format(i+1))\n",
    "\n",
    "        # Training\n",
    "        X_train, y_train = shuffle(X_train, y_train)\n",
    "        for offset in range(0, len(X_train), BATCH_SIZE):\n",
    "            batch_X, batch_y = X_train[offset:offset+BATCH_SIZE], y_train[offset:offset+BATCH_SIZE]\n",
    "            sess.run(training_operation, feed_dict={X:batch_X, y:batch_y})\n",
    "\n",
    "        # Validate by train data\n",
    "        Evaluate(X_train, y_train, 'train')\n",
    "        Ws, bs = np.append(Ws, W_current), np.append(bs, b_current)\n",
    "        \n",
    "        # Validate by valid data, and stop training when the model gets overfitting\n",
    "        best_epoch = Evaluate(X_valid, y_valid, 'valid')\n",
    "        if (best_epoch != None):\n",
    "            print(\"\\nThe model seems to be overfitting, so it will be rolled back to the best W and b...\")\n",
    "            print(\"EPOCH {}...\".format(best_epoch+1))\n",
    "            Rollback(X_valid, y_valid, 'valid', Ws[best_epoch], bs[best_epoch])\n",
    "            break\n",
    "    ##ENDFOR`i`\n",
    "\n",
    "    # Show the result on graph\n",
    "    plt.xlabel(\"epoch\")\n",
    "    epoch = np.arange(1, i+2, 1)\n",
    "    plt.ylabel(\"accuracy\")\n",
    "    plt.axis([1,i+1, 0.8,1.0])\n",
    "    plt.title(\"learning_rate = \"+str(learning_rate))\n",
    "    clear_line = np.full(i+1, clear_percentage, dtype=float)\n",
    "    for data_type in ['train', 'valid'] :\n",
    "        plt.plot(epoch,accuracy_dict[data_type], label=str(data_type))\n",
    "    plt.plot(epoch,clear_line,'r--', label=str(clear_percentage))\n",
    "    plt.legend()\n",
    "    plt.show()\n",
    "    \n",
    "    saver.save(sess, './cnn')\n",
    "    print(\"Model saved\")\n",
    "##ENDWITH`sess`"
   ]
  },
  {
   "cell_type": "markdown",
   "metadata": {},
   "source": [
    "### Show the result of EPOCHS = 350"
   ]
  },
  {
   "cell_type": "code",
   "execution_count": 9,
   "metadata": {},
   "outputs": [
    {
     "name": "stdout",
     "output_type": "stream",
     "text": [
      "Max Validation Accuracy by train data is  0.994\n",
      "Average Validation Accuracy by train data is 0.989 \n",
      "\n",
      "\n",
      "Max Validation Accuracy by valid data is  0.973\n",
      "Average Validation Accuracy by valid data is 0.960 \n",
      "\n",
      "\n"
     ]
    },
    {
     "data": {
      "image/png": "[encoded data removed]",
      "text/plain": [
       "<matplotlib.figure.Figure at 0x7f4cff933940>"
      ]
     },
     "metadata": {},
     "output_type": "display_data"
    }
   ],
   "source": [
    "train_data = np.array([])\n",
    "valid_data = np.array([])\n",
    "\n",
    "file = './EPOCHS_350_data.txt'\n",
    "with open(file, mode='r') as f:\n",
    "    data = f.readlines()\n",
    "    data = [tmp.strip() for tmp in data]\n",
    "    for i in range(len(data)):\n",
    "        if (i%3==1):\n",
    "            train_data = np.append(train_data, float(data[i][-5:]))\n",
    "        elif(i%3==2):\n",
    "            valid_data = np.append(valid_data, float(data[i][-5:]))\n",
    "\n",
    "i = int(np.ceil(i/3))\n",
    "\n",
    "accuracy_data = {\n",
    "    'train':train_data,\n",
    "    'valid':valid_data\n",
    "}\n",
    "\n",
    "print(\"Max Validation Accuracy by train data is \", np.max(accuracy_data['train']))\n",
    "print(\"Average Validation Accuracy by train data is {:.3f} \".format(np.mean(accuracy_data['train'])))\n",
    "print(\"\\n\")\n",
    "print(\"Max Validation Accuracy by valid data is \", np.max(accuracy_data['valid']))\n",
    "print(\"Average Validation Accuracy by valid data is {:.3f} \".format(np.mean(accuracy_data['valid'])))\n",
    "print(\"\\n\")\n",
    "\n",
    "# Show the result on graph\n",
    "plt.xlabel(\"epoch\")\n",
    "epoch = np.arange(1, i+1, 1)\n",
    "plt.ylabel(\"accuracy\")\n",
    "plt.axis([1,i, 0.9,1.0])\n",
    "plt.title(\"learning_rate = \"+str(learning_rate)+\", BATCH_SIZE = \"+str(BATCH_SIZE))\n",
    "clear_line = np.full(i, clear_percentage, dtype=float)\n",
    "for data_type in ['train', 'valid'] :\n",
    "    plt.plot(epoch,accuracy_data[data_type], label=str(data_type))\n",
    "plt.plot(epoch,clear_line,'r--', label=str(clear_percentage))\n",
    "plt.legend()\n",
    "plt.show()"
   ]
  },
  {
   "cell_type": "markdown",
   "metadata": {},
   "source": [
    "### Grayscale and Normalize the test data"
   ]
  },
  {
   "cell_type": "code",
   "execution_count": 10,
   "metadata": {},
   "outputs": [
    {
     "name": "stdout",
     "output_type": "stream",
     "text": [
      "Grayscaling...\n",
      "The test data has been grayscaled\n",
      "\n",
      "Normarizing...\n",
      "The value data has been normarized\n",
      "\n",
      "The shape of  X_test is  (12630, 32, 32, 1)\n",
      "The shape of  y_test is  (12630,)\n"
     ]
    }
   ],
   "source": [
    "''' Grayscale the test data '''\n",
    "print(\"Grayscaling...\")\n",
    "for i in range(n_test):\n",
    "    X_test[i] = np.expand_dims(cv2.cvtColor(X_test[i], cv2.COLOR_RGB2GRAY), axis=3)\n",
    "# Nx32x32x3 ---> Nx32x32x1\n",
    "X_test = X_test[:, :, :, 0:1]\n",
    "print(\"The test data has been grayscaled\\n\")\n",
    "\n",
    "\n",
    "''' Normarize the test data '''\n",
    "print(\"Normarizing...\")\n",
    "X_test = (X_test - np.mean(X_test)) / np.mean(X_test)\n",
    "print(\"The value data has been normarized\\n\")\n",
    "\n",
    "\n",
    "print(\"The shape of  X_test is \", X_test.shape)\n",
    "print(\"The shape of  y_test is \", y_test.shape)"
   ]
  },
  {
   "cell_type": "code",
   "execution_count": 11,
   "metadata": {},
   "outputs": [
    {
     "name": "stdout",
     "output_type": "stream",
     "text": [
      "[Roll backed] Validation Accuracy by test data = 0.955\n"
     ]
    }
   ],
   "source": [
    "''' Test the model '''\n",
    "\n",
    "with tf.Session() as sess:\n",
    "    saver.restore(sess, tf.train.latest_checkpoint('.'))\n",
    "\n",
    "    Rollback(X_test, y_test, 'test', Ws[best_epoch], bs[best_epoch])\n",
    "##ENDWITH`sess`"
   ]
  },
  {
   "cell_type": "markdown",
   "metadata": {},
   "source": [
    "---\n",
    "\n",
    "## Step 3: Test a Model on New Images\n",
    "\n",
    "To give yourself more insight into how your model is working, download at least five pictures of German traffic signs from the web and use your model to predict the traffic sign type.\n",
    "\n",
    "You may find `signnames.csv` useful as it contains mappings from the class id (integer) to the actual sign name."
   ]
  },
  {
   "cell_type": "markdown",
   "metadata": {},
   "source": [
    "### Load and Output the Images"
   ]
  },
  {
   "cell_type": "code",
   "execution_count": 16,
   "metadata": {
    "scrolled": false
   },
   "outputs": [
    {
     "name": "stdout",
     "output_type": "stream",
     "text": [
      "The shape of new_images is  (5, 32, 32, 3)\n",
      "The shape of new_labels is  (5,)\n",
      "new_labels is  [ 14.  25.   1.  12.  28.]\n",
      "The new_images & new_labels have been saved\n"
     ]
    },
    {
     "data": {
      "image/png": "[encoded data removed]",
      "text/plain": [
       "<matplotlib.figure.Figure at 0x7fbc8f166208>"
      ]
     },
     "metadata": {},
     "output_type": "display_data"
    }
   ],
   "source": [
    "### Load the images and plot them here.\n",
    "### Feel free to use as many code cells as needed.\n",
    "\n",
    "import numpy as np\n",
    "import pickle\n",
    "import matplotlib.image as mpimg\n",
    "import matplotlib.pyplot as plt\n",
    "# Visualizations will be shown in the notebook.\n",
    "%matplotlib inline\n",
    "\n",
    "\n",
    "''' Load new images from jpg file '''\n",
    "n_images = 5\n",
    "# Initialize `new_images` whose shape is same as `X_train` with zeros.\n",
    "new_images = np.zeros([1, 32, 32, 3])\n",
    "#new_images = np.zeros([1, X_train.shape[1], X_train.shape[2], 3])\n",
    "for i in range(1, n_images+1):\n",
    "    # Read an image\n",
    "    image = mpimg.imread('./new_images/new_image'+str(i)+'.jpg')\n",
    "    new_images = np.append(new_images, np.expand_dims(image,axis=0), axis=0)\n",
    "# Trancate the first element of `new_images` that all elements are zeros, and cast to uint8 for RGB.\n",
    "# (N+1)x32x32xC ---> Nx32x32xC\n",
    "new_images = new_images[1: , ...].astype(np.uint8)\n",
    "print(\"The shape of new_images is \", new_images.shape)\n",
    "\n",
    "\n",
    "''' Load new labels from txt file '''\n",
    "file_name = './new_images/new_labels.txt'\n",
    "new_labels = np.array([])\n",
    "with open(file_name) as f:\n",
    "    for line in f.readlines():\n",
    "        for label in line.split():\n",
    "             new_labels = np.append(new_labels, int(label))\n",
    "print(\"The shape of new_labels is \", new_labels.shape)\n",
    "print(\"new_labels is \",new_labels)\n",
    "\n",
    "\n",
    "''' Output the new images '''\n",
    "fig, axes = plt.subplots(nrows=1, ncols=n_images)\n",
    "for i in range(n_images):\n",
    "    axes[i].imshow(new_images[i])\n",
    "    axes[i].set_title(\"label = {}\".format(int(new_labels[i])))\n",
    "fig.subplots_adjust(right=2)\n",
    "    \n",
    "    \n",
    "''' Save the new images & new labels data '''\n",
    "new_images_file = './new_images.p'\n",
    "new_labels_file = './new_labels.p'\n",
    "with open(new_images_file, mode='wb') as f:\n",
    "    pickle.dump(new_images, f)\n",
    "with open(new_labels_file, mode='wb') as f:\n",
    "    pickle.dump(new_labels, f)\n",
    "print(\"The new_images & new_labels have been saved\")"
   ]
  },
  {
   "cell_type": "markdown",
   "metadata": {},
   "source": [
    "### Predict the Sign Type for Each Image"
   ]
  },
  {
   "cell_type": "code",
   "execution_count": 13,
   "metadata": {},
   "outputs": [
    {
     "name": "stdout",
     "output_type": "stream",
     "text": [
      "Loading...\n",
      "The new_images & new_labels have been loaded\n",
      "The shape of loaded new_images is  (5, 32, 32, 3)\n",
      "The shape of loaded new_labels is  (5,)\n",
      "Grayscaling...\n",
      "The test data has been grayscaled\n",
      "\n",
      "Normarizing...\n",
      "The value data has been normarized\n",
      "\n",
      "The shape of  new_images is  (5, 32, 32, 1)\n",
      "The shape of  new_labels is  (5,)\n",
      "Image data shape = (32, 32, 1)\n"
     ]
    }
   ],
   "source": [
    "### Run the predictions here and use the model to output the prediction for each image.\n",
    "### Make sure to pre-process the images with the same pre-processing pipeline used earlier.\n",
    "### Feel free to use as many code cells as needed.\n",
    "\n",
    "''' Load the new images & new labels data '''\n",
    "print(\"Loading...\")\n",
    "new_images_file = './new_images.p'\n",
    "new_labels_file = './new_labels.p'\n",
    "with open(new_images_file, mode='rb') as f:\n",
    "    new_images = pickle.load(f)\n",
    "with open(new_labels_file, mode='rb') as f:\n",
    "    new_labels = pickle.load(f)\n",
    "print(\"The new_images & new_labels have been loaded\")\n",
    "\n",
    "print(\"The shape of loaded new_images is \", new_images.shape)\n",
    "print(\"The shape of loaded new_labels is \", new_labels.shape)\n",
    "\n",
    "\n",
    "''' Grayscale the test data '''\n",
    "print(\"Grayscaling...\")\n",
    "for i in range(n_images):\n",
    "    new_images[i] = np.expand_dims(cv2.cvtColor(new_images[i], cv2.COLOR_RGB2GRAY), axis=3)\n",
    "# Nx32x32x3 ---> Nx32x32x1\n",
    "new_images = new_images[:, :, :, 0:1]\n",
    "print(\"The test data has been grayscaled\\n\")\n",
    "\n",
    "\n",
    "''' Normarize the test data '''\n",
    "print(\"Normarizing...\")\n",
    "new_images = (new_images - np.mean(new_images)) / np.mean(new_images)\n",
    "print(\"The value data has been normarized\\n\")\n",
    "\n",
    "\n",
    "print(\"The shape of  new_images is \", new_images.shape)\n",
    "print(\"The shape of  new_labels is \", new_labels.shape)\n",
    "# Update the shape of a single image\n",
    "image_shape = new_images[0].shape\n",
    "print(\"Image data shape =\", image_shape)"
   ]
  },
  {
   "cell_type": "code",
   "execution_count": 15,
   "metadata": {
    "scrolled": false
   },
   "outputs": [
    {
     "name": "stdout",
     "output_type": "stream",
     "text": [
      "new_labels is \n",
      " [14 25  1 12 28]\n",
      "Result of prediction is \n",
      " [14 25 12 12 28]\n"
     ]
    }
   ],
   "source": [
    "''' Predict the Sign Type '''\n",
    "print(\"new_labels is \\n\", new_labels.astype(int))\n",
    "\n",
    "with tf.Session() as sess:\n",
    "    saver.restore(sess, tf.train.latest_checkpoint('.'))\n",
    "    \n",
    "    predict_logits, _, _ = CNN(X, W=Ws[best_epoch], b=bs[best_epoch])\n",
    "    predict_logits = sess.run(predict_logits, feed_dict={X:new_images, y:new_labels})\n",
    "\n",
    "    predicted_labels = sess.run(tf.argmax(predict_logits, 1))\n",
    "    print(\"Result of prediction is \\n\", predicted_labels)\n",
    "    \n",
    "    softmax_logits = sess.run(tf.nn.softmax(predict_logits))\n",
    "    top_k = 5\n",
    "    top_predictions = sess.run(tf.nn.top_k(tf.constant(softmax_logits), k=top_k))\n",
    "##ENDWITH`sess`\n"
   ]
  },
  {
   "cell_type": "markdown",
   "metadata": {},
   "source": [
    "### Analyze Performance"
   ]
  },
  {
   "cell_type": "code",
   "execution_count": 16,
   "metadata": {
    "scrolled": true
   },
   "outputs": [
    {
     "name": "stdout",
     "output_type": "stream",
     "text": [
      "Validation Accuracy by new images is  0.8\n"
     ]
    }
   ],
   "source": [
    "### Calculate the accuracy for these 5 new images. \n",
    "### For example, if the model predicted 1 out of 5 signs correctly, it's 20% accurate on these new images.\n",
    "\n",
    "print(\"Validation Accuracy by new images is \", np.mean(np.equal(predicted_labels, new_labels)))"
   ]
  },
  {
   "cell_type": "markdown",
   "metadata": {},
   "source": [
    "### Output Top 5 Softmax Probabilities For Each Image Found on the Web"
   ]
  },
  {
   "cell_type": "markdown",
   "metadata": {},
   "source": [
    "For each of the new images, print out the model's softmax probabilities to show the **certainty** of the model's predictions (limit the output to the top 5 probabilities for each image). [`tf.nn.top_k`](https://www.tensorflow.org/versions/r0.12/api_docs/python/nn.html#top_k) could prove helpful here. \n",
    "\n",
    "The example below demonstrates how tf.nn.top_k can be used to find the top k predictions for each image.\n",
    "\n",
    "`tf.nn.top_k` will return the values and indices (class ids) of the top k predictions. So if k=3, for each sign, it'll return the 3 largest probabilities (out of a possible 43) and the correspoding class ids.\n",
    "\n",
    "Take this numpy array as an example. The values in the array represent predictions. The array contains softmax probabilities for five candidate images with six possible classes. `tf.nn.top_k` is used to choose the three classes with the highest probability:\n",
    "\n",
    "```\n",
    "# (5, 6) array\n",
    "a = np.array([[ 0.24879643,  0.07032244,  0.12641572,  0.34763842,  0.07893497,\n",
    "         0.12789202],\n",
    "       [ 0.28086119,  0.27569815,  0.08594638,  0.0178669 ,  0.18063401,\n",
    "         0.15899337],\n",
    "       [ 0.26076848,  0.23664738,  0.08020603,  0.07001922,  0.1134371 ,\n",
    "         0.23892179],\n",
    "       [ 0.11943333,  0.29198961,  0.02605103,  0.26234032,  0.1351348 ,\n",
    "         0.16505091],\n",
    "       [ 0.09561176,  0.34396535,  0.0643941 ,  0.16240774,  0.24206137,\n",
    "         0.09155967]])\n",
    "```\n",
    "\n",
    "Running it through `sess.run(tf.nn.top_k(tf.constant(a), k=3))` produces:\n",
    "\n",
    "```\n",
    "TopKV2(values=array([[ 0.34763842,  0.24879643,  0.12789202],\n",
    "       [ 0.28086119,  0.27569815,  0.18063401],\n",
    "       [ 0.26076848,  0.23892179,  0.23664738],\n",
    "       [ 0.29198961,  0.26234032,  0.16505091],\n",
    "       [ 0.34396535,  0.24206137,  0.16240774]]), indices=array([[3, 0, 5],\n",
    "       [0, 1, 4],\n",
    "       [0, 5, 1],\n",
    "       [1, 3, 5],\n",
    "       [1, 4, 3]], dtype=int32))\n",
    "```\n",
    "\n",
    "Looking just at the first row we get `[ 0.34763842,  0.24879643,  0.12789202]`, you can confirm these are the 3 largest probabilities in `a`. You'll also notice `[3, 0, 5]` are the corresponding indices."
   ]
  },
  {
   "cell_type": "code",
   "execution_count": 72,
   "metadata": {
    "scrolled": false
   },
   "outputs": [
    {
     "name": "stdout",
     "output_type": "stream",
     "text": [
      "Loading...\n",
      "The original train images have been loaded\n",
      "Shape of original train images is  (34799, 32, 32, 3)\n",
      "The new_images have been loaded\n",
      "Shape of loaded new_images is  (5, 32, 32, 3)\n",
      "\n",
      "Result of prediction is \n",
      " [14 25 12 12 28]\n",
      "\n",
      "\n"
     ]
    },
    {
     "data": {
      "image/png": "[encoded data removed]",
      "text/plain": [
       "<matplotlib.figure.Figure at 0x7fbc8d2400b8>"
      ]
     },
     "metadata": {},
     "output_type": "display_data"
    },
    {
     "ename": "NameError",
     "evalue": "name 'top_predictions' is not defined",
     "output_type": "error",
     "traceback": [
      "\u001b[0;31m---------------------------------------------------------------------------\u001b[0m",
      "\u001b[0;31mNameError\u001b[0m                                 Traceback (most recent call last)",
      "\u001b[0;32m<ipython-input-72-5247a9f660df>\u001b[0m in \u001b[0;36m<module>\u001b[0;34m()\u001b[0m\n\u001b[1;32m     52\u001b[0m     \u001b[0maxes\u001b[0m\u001b[0;34m[\u001b[0m\u001b[0mi\u001b[0m\u001b[0;34m,\u001b[0m \u001b[0;36m0\u001b[0m\u001b[0;34m]\u001b[0m\u001b[0;34m.\u001b[0m\u001b[0mset_title\u001b[0m\u001b[0;34m(\u001b[0m\u001b[0;34m\"label = {}\"\u001b[0m\u001b[0;34m.\u001b[0m\u001b[0mformat\u001b[0m\u001b[0;34m(\u001b[0m\u001b[0mint\u001b[0m\u001b[0;34m(\u001b[0m\u001b[0mnew_labels\u001b[0m\u001b[0;34m[\u001b[0m\u001b[0mi\u001b[0m\u001b[0;34m]\u001b[0m\u001b[0;34m)\u001b[0m\u001b[0;34m)\u001b[0m\u001b[0;34m)\u001b[0m\u001b[0;34m\u001b[0m\u001b[0m\n\u001b[1;32m     53\u001b[0m     \u001b[0;32mfor\u001b[0m \u001b[0mj\u001b[0m \u001b[0;32min\u001b[0m \u001b[0mrange\u001b[0m\u001b[0;34m(\u001b[0m\u001b[0mtop_k\u001b[0m\u001b[0;34m)\u001b[0m\u001b[0;34m:\u001b[0m\u001b[0;34m\u001b[0m\u001b[0m\n\u001b[0;32m---> 54\u001b[0;31m         \u001b[0maxes\u001b[0m\u001b[0;34m[\u001b[0m\u001b[0mi\u001b[0m\u001b[0;34m,\u001b[0m \u001b[0mj\u001b[0m\u001b[0;34m+\u001b[0m\u001b[0;36m1\u001b[0m\u001b[0;34m]\u001b[0m\u001b[0;34m.\u001b[0m\u001b[0mimshow\u001b[0m\u001b[0;34m(\u001b[0m\u001b[0mX_train\u001b[0m\u001b[0;34m[\u001b[0m\u001b[0mnp\u001b[0m\u001b[0;34m.\u001b[0m\u001b[0margwhere\u001b[0m\u001b[0;34m(\u001b[0m\u001b[0my_train\u001b[0m\u001b[0;34m==\u001b[0m\u001b[0mtop_predictions\u001b[0m\u001b[0;34m[\u001b[0m\u001b[0;36m1\u001b[0m\u001b[0;34m]\u001b[0m\u001b[0;34m[\u001b[0m\u001b[0mi\u001b[0m\u001b[0;34m]\u001b[0m\u001b[0;34m[\u001b[0m\u001b[0mj\u001b[0m\u001b[0;34m]\u001b[0m\u001b[0;34m)\u001b[0m\u001b[0;34m[\u001b[0m\u001b[0;36m0\u001b[0m\u001b[0;34m,\u001b[0m \u001b[0;36m0\u001b[0m\u001b[0;34m]\u001b[0m\u001b[0;34m]\u001b[0m\u001b[0;34m)\u001b[0m\u001b[0;34m\u001b[0m\u001b[0m\n\u001b[0m\u001b[1;32m     55\u001b[0m         \u001b[0maxes\u001b[0m\u001b[0;34m[\u001b[0m\u001b[0mi\u001b[0m\u001b[0;34m,\u001b[0m \u001b[0mj\u001b[0m\u001b[0;34m+\u001b[0m\u001b[0;36m1\u001b[0m\u001b[0;34m]\u001b[0m\u001b[0;34m.\u001b[0m\u001b[0mset_title\u001b[0m\u001b[0;34m(\u001b[0m\u001b[0;34m\"{} ({:.1f}%)\"\u001b[0m\u001b[0;34m.\u001b[0m\u001b[0mformat\u001b[0m\u001b[0;34m(\u001b[0m\u001b[0mtop_predictions\u001b[0m\u001b[0;34m[\u001b[0m\u001b[0;36m1\u001b[0m\u001b[0;34m]\u001b[0m\u001b[0;34m[\u001b[0m\u001b[0mi\u001b[0m\u001b[0;34m]\u001b[0m\u001b[0;34m[\u001b[0m\u001b[0mj\u001b[0m\u001b[0;34m]\u001b[0m\u001b[0;34m,\u001b[0m \u001b[0mtop_predictions\u001b[0m\u001b[0;34m[\u001b[0m\u001b[0;36m0\u001b[0m\u001b[0;34m]\u001b[0m\u001b[0;34m[\u001b[0m\u001b[0mi\u001b[0m\u001b[0;34m]\u001b[0m\u001b[0;34m[\u001b[0m\u001b[0mj\u001b[0m\u001b[0;34m]\u001b[0m\u001b[0;34m*\u001b[0m\u001b[0;36m100\u001b[0m\u001b[0;34m)\u001b[0m\u001b[0;34m)\u001b[0m\u001b[0;34m\u001b[0m\u001b[0m\n\u001b[1;32m     56\u001b[0m \u001b[0mfig\u001b[0m\u001b[0;34m.\u001b[0m\u001b[0msubplots_adjust\u001b[0m\u001b[0;34m(\u001b[0m\u001b[0mright\u001b[0m\u001b[0;34m=\u001b[0m\u001b[0;36m2\u001b[0m\u001b[0;34m,\u001b[0m \u001b[0mtop\u001b[0m\u001b[0;34m=\u001b[0m\u001b[0;36m3\u001b[0m\u001b[0;34m)\u001b[0m\u001b[0;34m\u001b[0m\u001b[0m\n",
      "\u001b[0;31mNameError\u001b[0m: name 'top_predictions' is not defined"
     ]
    },
    {
     "data": {
      "image/png": "[encoded data removed]",
      "text/plain": [
       "<matplotlib.figure.Figure at 0x7fbc8cbc7978>"
      ]
     },
     "metadata": {},
     "output_type": "display_data"
    }
   ],
   "source": [
    "### Print out the top five softmax probabilities for the predictions on the German traffic sign images found on the web. \n",
    "### Feel free to use as many code cells as needed.\n",
    "\n",
    "''' Load the images '''\n",
    "print(\"Loading...\")\n",
    "train_file = './train.p'\n",
    "new_images_file = './new_images.p'\n",
    "\n",
    "with open(train_file, mode='rb') as f:\n",
    "    train = pickle.load(f)\n",
    "with open(new_images_file, mode='rb') as f:\n",
    "    new_images = pickle.load(f)\n",
    "\n",
    "X_train, y_train = train['features'], train['labels']\n",
    "print(\"The original train images have been loaded\")\n",
    "print(\"Shape of original train images is \", X_train.shape)\n",
    "print(\"The new_images have been loaded\")\n",
    "print(\"Shape of loaded new_images is \", new_images.shape)\n",
    "\n",
    "\n",
    "''' Output the new images '''\n",
    "print(\"\\nResult of prediction is \\n\", predicted_labels)\n",
    "print(\"\\n\")\n",
    "fig, axes = plt.subplots(nrows=n_images, ncols=top_k+1)\n",
    "for i in range(n_images):\n",
    "    axes[i, 0].imshow(new_images[i])\n",
    "    axes[i, 0].set_title(\"label = {}\".format(int(new_labels[i])))\n",
    "    for j in range(top_k):\n",
    "        axes[i, j+1].imshow(X_train[np.argwhere(y_train==top_predictions[1][i][j])[0, 0]])\n",
    "        axes[i, j+1].set_title(\"{} ({:.1f}%)\".format(top_predictions[1][i][j], top_predictions[0][i][j]*100))\n",
    "fig.subplots_adjust(right=2, top=3)\n",
    "\n",
    "\n",
    "''' Count the number of images '''\n",
    "n_labels = np.zeros(n_classes)\n",
    "for i in range(n_classes):\n",
    "    for j in range(n_train):\n",
    "        if (y_train[j] == i):\n",
    "            n_labels[i] += 1\n",
    "\n",
    "# new_labels\n",
    "plt.subplots(figsize=(15,5))\n",
    "plt.xlabel('Black = new_labels')\n",
    "plt.ylabel('number of images')\n",
    "plt.title('Dataset distribution in train data')\n",
    "y_pos = np.arange(n_classes)\n",
    "barlist = plt.bar(y_pos, n_labels, align='center', color='gray')\n",
    "for i in range(n_images):\n",
    "    barlist[int(new_labels[i])].set_color('k')\n",
    "plt.xticks(y_pos, np.arange(n_classes))\n",
    "plt.show()\n",
    "\n",
    "# predicted_labels\n",
    "plt.subplots(figsize=(15,5))\n",
    "plt.xlabel('Purple = predicted_labels')\n",
    "plt.ylabel('number of images')\n",
    "plt.title('Dataset distribution in train data')\n",
    "y_pos = np.arange(n_classes)\n",
    "barlist = plt.bar(y_pos, n_labels, align='center', color='gray')\n",
    "for i in range(n_images):\n",
    "    barlist[predicted_labels[i]].set_color('#624ea7')\n",
    "plt.xticks(y_pos, np.arange(n_classes))\n",
    "plt.show()\n",
    "\n",
    "# corresponding labels\n",
    "plt.subplots(figsize=(15,5))\n",
    "plt.xlabel('Black = new_labels,\\n Purple = predicted_labels,\\n Red = corresponding labels')\n",
    "plt.ylabel('number of images')\n",
    "plt.title('Dataset distribution in train data')\n",
    "y_pos = np.arange(n_classes)\n",
    "barlist = plt.bar(y_pos, n_labels, align='center', color='gray')\n",
    "for i in range(n_images):\n",
    "    barlist[int(new_labels[i])].set_color('k')\n",
    "    barlist[predicted_labels[i]].set_color('#624ea7')\n",
    "    if (new_labels[i] == predicted_labels[i]):\n",
    "        barlist[predicted_labels[i]].set_color('r')\n",
    "plt.xticks(y_pos, np.arange(n_classes))\n",
    "plt.show()"
   ]
  },
  {
   "cell_type": "markdown",
   "metadata": {},
   "source": [
    "### Project Writeup\n",
    "\n",
    "Once you have completed the code implementation, document your results in a project writeup using this [template](https://github.com/udacity/CarND-Traffic-Sign-Classifier-Project/blob/master/writeup_template.md) as a guide. The writeup can be in a markdown or pdf file. "
   ]
  },
  {
   "cell_type": "markdown",
   "metadata": {},
   "source": [
    "> **Note**: Once you have completed all of the code implementations and successfully answered each question above, you may finalize your work by exporting the iPython Notebook as an HTML document. You can do this by using the menu above and navigating to  \\n\",\n",
    "    \"**File -> Download as -> HTML (.html)**. Include the finished document along with this notebook as your submission."
   ]
  },
  {
   "cell_type": "markdown",
   "metadata": {},
   "source": [
    "---\n",
    "\n",
    "## Step 4 (Optional): Visualize the Neural Network's State with Test Images\n",
    "\n",
    " This Section is not required to complete but acts as an additional excersise for understaning the output of a neural network's weights. While neural networks can be a great learning device they are often referred to as a black box. We can understand what the weights of a neural network look like better by plotting their feature maps. After successfully training your neural network you can see what it's feature maps look like by plotting the output of the network's weight layers in response to a test stimuli image. From these plotted feature maps, it's possible to see what characteristics of an image the network finds interesting. For a sign, maybe the inner network feature maps react with high activation to the sign's boundary outline or to the contrast in the sign's painted symbol.\n",
    "\n",
    " Provided for you below is the function code that allows you to get the visualization output of any tensorflow weight layer you want. The inputs to the function should be a stimuli image, one used during training or a new one you provided, and then the tensorflow variable name that represents the layer's state during the training process, for instance if you wanted to see what the [LeNet lab's](https://classroom.udacity.com/nanodegrees/nd013/parts/fbf77062-5703-404e-b60c-95b78b2f3f9e/modules/6df7ae49-c61c-4bb2-a23e-6527e69209ec/lessons/601ae704-1035-4287-8b11-e2c2716217ad/concepts/d4aca031-508f-4e0b-b493-e7b706120f81) feature maps looked like for it's second convolutional layer you could enter conv2 as the tf_activation variable.\n",
    "\n",
    "For an example of what feature map outputs look like, check out NVIDIA's results in their paper [End-to-End Deep Learning for Self-Driving Cars](https://devblogs.nvidia.com/parallelforall/deep-learning-self-driving-cars/) in the section Visualization of internal CNN State. NVIDIA was able to show that their network's inner weights had high activations to road boundary lines by comparing feature maps from an image with a clear path to one without. Try experimenting with a similar test to show that your trained network's weights are looking for interesting features, whether it's looking at differences in feature maps from images with or without a sign, or even what feature maps look like in a trained network vs a completely untrained one on the same sign image.\n",
    "\n",
    "<figure>\n",
    " <img src=\"visualize_cnn.png\" width=\"380\" alt=\"Combined Image\" />\n",
    " <figcaption>\n",
    " <p></p> \n",
    " <p style=\"text-align: center;\"> Your output should look something like this (above)</p> \n",
    " </figcaption>\n",
    "</figure>\n",
    " <p></p> \n"
   ]
  },
  {
   "cell_type": "code",
   "execution_count": null,
   "metadata": {
    "collapsed": true
   },
   "outputs": [],
   "source": [
    "### Visualize your network's feature maps here.\n",
    "### Feel free to use as many code cells as needed.\n",
    "\n",
    "# image_input: the test image being fed into the network to produce the feature maps\n",
    "# tf_activation: should be a tf variable name used during your training procedure that represents the calculated state of a specific weight layer\n",
    "# activation_min/max: can be used to view the activation contrast in more detail, by default matplot sets min and max to the actual min and max values of the output\n",
    "# plt_num: used to plot out multiple different weight feature map sets on the same block, just extend the plt number for each new feature map entry\n",
    "\n",
    "def outputFeatureMap(image_input, tf_activation, activation_min=-1, activation_max=-1 ,plt_num=1):\n",
    "    # Here make sure to preprocess your image_input in a way your network expects\n",
    "    # with size, normalization, ect if needed\n",
    "    # image_input =\n",
    "    # Note: x should be the same name as your network's tensorflow data placeholder variable\n",
    "    # If you get an error tf_activation is not defined it may be having trouble accessing the variable from inside a function\n",
    "    activation = tf_activation.eval(session=sess,feed_dict={x : image_input})\n",
    "    featuremaps = activation.shape[3]\n",
    "    plt.figure(plt_num, figsize=(15,15))\n",
    "    for featuremap in range(featuremaps):\n",
    "        plt.subplot(6,8, featuremap+1) # sets the number of feature maps to show on each row and column\n",
    "        plt.title('FeatureMap ' + str(featuremap)) # displays the feature map number\n",
    "        if activation_min != -1 & activation_max != -1:\n",
    "            plt.imshow(activation[0,:,:, featuremap], interpolation=\"nearest\", vmin =activation_min, vmax=activation_max, cmap=\"gray\")\n",
    "        elif activation_max != -1:\n",
    "            plt.imshow(activation[0,:,:, featuremap], interpolation=\"nearest\", vmax=activation_max, cmap=\"gray\")\n",
    "        elif activation_min !=-1:\n",
    "            plt.imshow(activation[0,:,:, featuremap], interpolation=\"nearest\", vmin=activation_min, cmap=\"gray\")\n",
    "        else:\n",
    "            plt.imshow(activation[0,:,:, featuremap], interpolation=\"nearest\", cmap=\"gray\")"
   ]
  }
 ],
 "metadata": {
  "anaconda-cloud": {},
  "kernelspec": {
   "display_name": "Python 3",
   "language": "python",
   "name": "python3"
  },
  "language_info": {
   "codemirror_mode": {
    "name": "ipython",
    "version": 3
   },
   "file_extension": ".py",
   "mimetype": "text/x-python",
   "name": "python",
   "nbconvert_exporter": "python",
   "pygments_lexer": "ipython3",
   "version": "3.5.2"
  },
  "widgets": {
   "state": {},
   "version": "1.1.2"
  }
 },
 "nbformat": 4,
 "nbformat_minor": 1
}
