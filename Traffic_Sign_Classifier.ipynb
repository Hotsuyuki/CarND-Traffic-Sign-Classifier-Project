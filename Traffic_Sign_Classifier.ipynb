{
 "cells": [
  {
   "cell_type": "markdown",
   "metadata": {},
   "source": [
    "# Self-Driving Car Engineer Nanodegree\n",
    "\n",
    "## Deep Learning\n",
    "\n",
    "## Project: Build a Traffic Sign Recognition Classifier\n",
    "\n",
    "In this notebook, a template is provided for you to implement your functionality in stages, which is required to successfully complete this project. If additional code is required that cannot be included in the notebook, be sure that the Python code is successfully imported and included in your submission if necessary. \n",
    "\n",
    "> **Note**: Once you have completed all of the code implementations, you need to finalize your work by exporting the iPython Notebook as an HTML document. Before exporting the notebook to html, all of the code cells need to have been run so that reviewers can see the final implementation and output. You can then export the notebook by using the menu above and navigating to  \\n\",\n",
    "    \"**File -> Download as -> HTML (.html)**. Include the finished document along with this notebook as your submission. \n",
    "\n",
    "In addition to implementing code, there is a writeup to complete. The writeup should be completed in a separate file, which can be either a markdown file or a pdf document. There is a [write up template](https://github.com/udacity/CarND-Traffic-Sign-Classifier-Project/blob/master/writeup_template.md) that can be used to guide the writing process. Completing the code template and writeup template will cover all of the [rubric points](https://review.udacity.com/#!/rubrics/481/view) for this project.\n",
    "\n",
    "The [rubric](https://review.udacity.com/#!/rubrics/481/view) contains \"Stand Out Suggestions\" for enhancing the project beyond the minimum requirements. The stand out suggestions are optional. If you decide to pursue the \"stand out suggestions\", you can include the code in this Ipython notebook and also discuss the results in the writeup file.\n",
    "\n",
    "\n",
    ">**Note:** Code and Markdown cells can be executed using the **Shift + Enter** keyboard shortcut. In addition, Markdown cells can be edited by typically double-clicking the cell to enter edit mode."
   ]
  },
  {
   "cell_type": "markdown",
   "metadata": {},
   "source": [
    "---\n",
    "## Step 0: Load The Data"
   ]
  },
  {
   "cell_type": "code",
   "execution_count": 1,
   "metadata": {
    "collapsed": true
   },
   "outputs": [],
   "source": [
    "# Load pickled data\n",
    "import pickle\n",
    "\n",
    "# TODO: Fill this in based on where you saved the training and testing data\n",
    "\n",
    "training_file = './train.p'\n",
    "validation_file= './valid.p'\n",
    "testing_file = './test.p'\n",
    "\n",
    "with open(training_file, mode='rb') as f:\n",
    "    train = pickle.load(f)\n",
    "with open(validation_file, mode='rb') as f:\n",
    "    valid = pickle.load(f)\n",
    "with open(testing_file, mode='rb') as f:\n",
    "    test = pickle.load(f)\n",
    "    \n",
    "X_train, y_train = train['features'], train['labels']\n",
    "X_valid, y_valid = valid['features'], valid['labels']\n",
    "X_test, y_test = test['features'], test['labels']\n",
    "\n",
    "assert(len(X_train) == len(y_train))\n",
    "assert(len(X_valid) == len(y_valid))\n",
    "assert(len(X_test) == len(y_test))"
   ]
  },
  {
   "cell_type": "markdown",
   "metadata": {},
   "source": [
    "---\n",
    "\n",
    "## Step 1: Dataset Summary & Exploration\n",
    "\n",
    "The pickled data is a dictionary with 4 key/value pairs:\n",
    "\n",
    "- `'features'` is a 4D array containing raw pixel data of the traffic sign images, (num examples, width, height, RGBchannels).\n",
    "- `'labels'` is a 1D array containing the label/class id of the traffic sign. The file `signnames.csv` contains id -> name mappings for each id.\n",
    "- `'sizes'` is a list containing tuples, (width, height) representing the original width and height the image.\n",
    "- `'coords'` is a list containing tuples, (x1, y1, x2, y2) representing coordinates of a bounding box around the sign in the image. **THESE COORDINATES ASSUME THE ORIGINAL IMAGE. THE PICKLED DATA CONTAINS RESIZED VERSIONS (32 by 32) OF THESE IMAGES**\n",
    "\n",
    "Complete the basic data summary below. Use python, numpy and/or pandas methods to calculate the data summary rather than hard coding the results. For example, the [pandas shape method](http://pandas.pydata.org/pandas-docs/stable/generated/pandas.DataFrame.shape.html) might be useful for calculating some of the summary results. "
   ]
  },
  {
   "cell_type": "markdown",
   "metadata": {},
   "source": [
    "### Provide a Basic Summary of the Data Set Using Python, Numpy and/or Pandas"
   ]
  },
  {
   "cell_type": "code",
   "execution_count": 2,
   "metadata": {},
   "outputs": [
    {
     "name": "stdout",
     "output_type": "stream",
     "text": [
      "Number of training examples = 34799\n",
      "Number of validation examples = 4410\n",
      "Number of testing examples = 12630\n",
      "Image data shape = (32, 32, 3)\n",
      "Number of classes = 43\n"
     ]
    }
   ],
   "source": [
    "### Replace each question mark with the appropriate value. \n",
    "### Use python, pandas or numpy methods rather than hard coding the results\n",
    "\n",
    "import numpy as np\n",
    "\n",
    "# TODO: Number of training examples\n",
    "n_train = len(X_train)\n",
    "\n",
    "# TODO: Number of validation examples\n",
    "n_valid = len(X_valid)\n",
    "\n",
    "# TODO: Number of testing examples.\n",
    "n_test = len(X_test)\n",
    "\n",
    "# TODO: What's the shape of an traffic sign image?\n",
    "image_shape = X_train[0].shape\n",
    "\n",
    "# TODO: How many unique classes/labels there are in the dataset.\n",
    "n_classes = np.unique(y_train).shape[0]\n",
    "\n",
    "print(\"Number of training examples =\", n_train)\n",
    "print(\"Number of validation examples =\", n_valid)\n",
    "print(\"Number of testing examples =\", n_test)\n",
    "print(\"Image data shape =\", image_shape)\n",
    "print(\"Number of classes =\", n_classes)\n",
    "\n",
    "#print(\"X_train[0] is \\n\" + str(X_train[0])) ... That shows the train data has not been normarized yet."
   ]
  },
  {
   "cell_type": "markdown",
   "metadata": {},
   "source": [
    "### Include an exploratory visualization of the dataset"
   ]
  },
  {
   "cell_type": "markdown",
   "metadata": {},
   "source": [
    "Visualize the German Traffic Signs Dataset using the pickled file(s). This is open ended, suggestions include: plotting traffic sign images, plotting the count of each sign, etc. \n",
    "\n",
    "The [Matplotlib](http://matplotlib.org/) [examples](http://matplotlib.org/examples/index.html) and [gallery](http://matplotlib.org/gallery.html) pages are a great resource for doing visualizations in Python.\n",
    "\n",
    "**NOTE:** It's recommended you start with something simple first. If you wish to do more, come back to it after you've completed the rest of the sections. It can be interesting to look at the distribution of classes in the training, validation and test set. Is the distribution the same? Are there more examples of some classes than others?"
   ]
  },
  {
   "cell_type": "code",
   "execution_count": 3,
   "metadata": {},
   "outputs": [
    {
     "name": "stdout",
     "output_type": "stream",
     "text": [
      "The label of the image = 0\n",
      "\n",
      "The RGB image is \n"
     ]
    },
    {
     "data": {
      "text/plain": [
       "<matplotlib.image.AxesImage at 0x7f221e39ca90>"
      ]
     },
     "execution_count": 3,
     "metadata": {},
     "output_type": "execute_result"
    },
    {
     "data": {
      "image/png": "[encoded data removed]",
      "text/plain": [
       "<matplotlib.figure.Figure at 0x7f221e656dd8>"
      ]
     },
     "metadata": {},
     "output_type": "display_data"
    }
   ],
   "source": [
    "### Data exploration visualization code goes here.\n",
    "### Feel free to use as many code cells as needed.\n",
    "\n",
    "import matplotlib.pyplot as plt\n",
    "# Visualizations will be shown in the notebook.\n",
    "%matplotlib inline\n",
    "import random\n",
    "\n",
    "\n",
    "index = random.randint(0, len(X_train))\n",
    "print(\"The label of the image = {}\".format(y_train[index]))\n",
    "print(\"\\nThe RGB image is \")\n",
    "plt.imshow(X_train[index])"
   ]
  },
  {
   "cell_type": "markdown",
   "metadata": {},
   "source": [
    "----\n",
    "\n",
    "## Step 2: Design and Test a Model Architecture\n",
    "\n",
    "Design and implement a deep learning model that learns to recognize traffic signs. Train and test your model on the [German Traffic Sign Dataset](http://benchmark.ini.rub.de/?section=gtsrb&subsection=dataset).\n",
    "\n",
    "The LeNet-5 implementation shown in the [classroom](https://classroom.udacity.com/nanodegrees/nd013/parts/fbf77062-5703-404e-b60c-95b78b2f3f9e/modules/6df7ae49-c61c-4bb2-a23e-6527e69209ec/lessons/601ae704-1035-4287-8b11-e2c2716217ad/concepts/d4aca031-508f-4e0b-b493-e7b706120f81) at the end of the CNN lesson is a solid starting point. You'll have to change the number of classes and possibly the preprocessing, but aside from that it's plug and play! \n",
    "\n",
    "With the LeNet-5 solution from the lecture, you should expect a validation set accuracy of about 0.89. To meet specifications, the validation set accuracy will need to be at least 0.93. It is possible to get an even higher accuracy, but 0.93 is the minimum for a successful project submission. \n",
    "\n",
    "There are various aspects to consider when thinking about this problem:\n",
    "\n",
    "- Neural network architecture (is the network over or underfitting?)\n",
    "- Play around preprocessing techniques (normalization, rgb to grayscale, etc)\n",
    "- Number of examples per label (some have more than others).\n",
    "- Generate fake data.\n",
    "\n",
    "Here is an example of a [published baseline model on this problem](http://yann.lecun.com/exdb/publis/pdf/sermanet-ijcnn-11.pdf). It's not required to be familiar with the approach used in the paper but, it's good practice to try to read papers like these."
   ]
  },
  {
   "cell_type": "markdown",
   "metadata": {},
   "source": [
    "### Pre-process the Data Set (normalization, grayscale, etc.)"
   ]
  },
  {
   "cell_type": "markdown",
   "metadata": {},
   "source": [
    "Minimally, the image data should be normalized so that the data has mean zero and equal variance. For image data, `(pixel - 128)/ 128` is a quick way to approximately normalize the data and can be used in this project. \n",
    "\n",
    "Other pre-processing steps are optional. You can try different techniques to see if it improves performance. \n",
    "\n",
    "Use the code cell (or multiple code cells, if necessary) to implement the first step of your project."
   ]
  },
  {
   "cell_type": "code",
   "execution_count": 4,
   "metadata": {},
   "outputs": [
    {
     "name": "stdout",
     "output_type": "stream",
     "text": [
      "The train data has been grayscaled\n",
      "Image data shape = (313191, 32, 32, 1)\n",
      "The train data has been normarized\n",
      "Image data shape = (313191, 32, 32, 1)\n",
      "\n",
      "The shape of new X_train (313191, 32, 32, 1)\n",
      "The shape of new y_train (313191,)\n",
      "The shape of new X_valid (4410, 32, 32, 1)\n",
      "The shape of new y_valid (4410,)\n",
      "The train data has been shuffled\n"
     ]
    }
   ],
   "source": [
    "### Preprocess the data here. It is required to normalize the data. Other preprocessing steps could include \n",
    "### converting to grayscale, etc.\n",
    "### Feel free to use as many code cells as needed.\n",
    "\n",
    "import cv2\n",
    "from sklearn.utils import shuffle\n",
    "\n",
    "\n",
    "''' Rotate the train data (15[deg] & -15[deg])'''\n",
    "rotate_X_train, inv_rotate_X_train = np.copy(X_train), np.copy(X_train)\n",
    "rows, cols = X_train.shape[1], X_train.shape[2]\n",
    "rotate_M, inv_rotate_M = cv2.getRotationMatrix2D((cols/2,rows/2), 15, 1), cv2.getRotationMatrix2D((cols/2,rows/2), -15, 1)\n",
    "for i in range(n_train):\n",
    "    rotate_X_train[i] = cv2.warpAffine(X_train[i], rotate_M, (cols,rows))\n",
    "    inv_rotate_X_train[i] = cv2.warpAffine(X_train[i], inv_rotate_M, (cols,rows))\n",
    "\n",
    "\n",
    "''' Translate the train data (2pixels prallel move to four corner ) '''\n",
    "translate_X_train = {\n",
    "    'topleft':np.copy(X_train), 'topright':np.copy(X_train),\n",
    "    'bottomleft':np.copy(X_train), 'bottomright':np.copy(X_train)\n",
    "}\n",
    "M = {\n",
    "    'topleft':np.float32([[1,0,-2], [0,1,-2]]), 'topright':np.float32([[1,0,2], [0,1,-2]]),\n",
    "    'bottomleft':np.float32([[1,0,-2], [0,1,2]]), 'bottomright':np.float32([[1,0,2], [0,1,2]])\n",
    "}\n",
    "rows, cols = X_train.shape[1], X_train.shape[2]\n",
    "for direction in ['topleft', 'topright', 'bottomleft', 'bottomright']:\n",
    "    for i in range(n_train):\n",
    "        translate_X_train[direction][i] = cv2.warpAffine(X_train[i], M[direction], (cols,rows))\n",
    "\n",
    "\n",
    "''' Zoom up & down the train data (x1.2 & x0.8)'''\n",
    "zoomup_X_train, zoomdown_X_train = np.copy(X_train),  np.copy(X_train)\n",
    "for i in range(n_train):\n",
    "    zoomup_X_train[i] = cv2.resize(X_train[i], None, fx=1.2, fy=1.2, interpolation = cv2.INTER_CUBIC)[2:2+32, 2:2+32]\n",
    "    zoomdown_X_train[i] = np.pad(cv2.resize(X_train[i], None, fx=0.8, fy=0.8, interpolation = cv2.INTER_CUBIC), ((3,3),(3,3), (0,0)), 'constant')\n",
    "\n",
    "\n",
    "''' Add all augmentied data '''\n",
    "original_X_train = np.copy(X_train)\n",
    "original_y_train = np.copy(y_train)\n",
    "\n",
    "assert not(np.all(original_X_train == rotate_X_train))\n",
    "X_train = np.append(X_train, rotate_X_train, axis=0)\n",
    "y_train = np.append(y_train, original_y_train, axis=0)\n",
    "assert not(np.all(original_X_train == inv_rotate_X_train))\n",
    "X_train = np.append(X_train, inv_rotate_X_train, axis=0)\n",
    "y_train = np.append(y_train, original_y_train, axis=0)\n",
    "\n",
    "for direction in ['topleft', 'topright', 'bottomleft', 'bottomright']:\n",
    "    assert not(np.all(original_X_train == translate_X_train[direction]))\n",
    "    X_train = np.append(X_train, translate_X_train[direction], axis=0)\n",
    "    y_train = np.append(y_train, original_y_train, axis=0)\n",
    "\n",
    "assert not(np.all(original_X_train == zoomup_X_train))\n",
    "X_train = np.append(X_train, zoomup_X_train, axis=0)\n",
    "y_train = np.append(y_train, original_y_train, axis=0)\n",
    "assert not(np.all(original_X_train == zoomdown_X_train))\n",
    "X_train = np.append(X_train, zoomdown_X_train, axis=0)\n",
    "y_train = np.append(y_train, original_y_train, axis=0)\n",
    "\n",
    "\n",
    "''' RGB to YUV '''\n",
    "\n",
    "\n",
    "''' Grayscale the train & valid(?) data '''\n",
    "for i in range(n_train):\n",
    "    X_train[i] = np.expand_dims(cv2.cvtColor(X_train[i], cv2.COLOR_RGB2GRAY ), axis=3)\n",
    "for i in range(n_valid):\n",
    "    X_valid[i] = np.expand_dims(cv2.cvtColor(X_valid[i], cv2.COLOR_RGB2GRAY ), axis=3)\n",
    "X_train = X_train[:, :, :, 0:1]\n",
    "X_valid = X_valid[:, :, :, 0:1]\n",
    "print(\"The train data has been grayscaled\")\n",
    "print(\"Image data shape =\", X_train.shape)\n",
    "\n",
    "\n",
    "''' Normarize the train & valid(?) data '''\n",
    "#X_train = (X_train - np.min(X_train)) / (np.max(X_train) - np.min(X_train))  # ---> min: 0, mean: 0.3, max: 1.0\n",
    "#X_valid = (X_valid - np.min(X_valid)) / (np.max(X_valid) - np.min(X_valid))  # ---> min: 0, mean: 0.3, max: 1.0\n",
    "#X_train = (X_train - 128.0) / 128.0 # ---> min: -1.0, mean: -0.3, max: 1.0 \n",
    "#X_valid = (X_valid - 128.0) / 128.0 # ---> min: -1.0, mean: -0.3, max: 1.0 \n",
    "X_train = (X_train - np.mean(X_train)) / np.mean(X_train) # ---> min: -1.0, mean: 0, max: 2.0\n",
    "X_valid = (X_valid - np.mean(X_valid)) / np.mean(X_valid) # ---> min: -1.0, mean: 0, max: 2.0\n",
    "print(\"The train data has been normarized\")\n",
    "print(\"Image data shape =\", X_train.shape)\n",
    "\n",
    "\n",
    "''' Confirm the shape '''\n",
    "print(\"\\nThe shape of new X_train {}\".format(X_train.shape))\n",
    "print(\"The shape of new y_train {}\".format(y_train.shape))\n",
    "print(\"The shape of new X_valid {}\".format(X_valid.shape))\n",
    "print(\"The shape of new y_valid {}\".format(y_valid.shape))\n",
    "image_shape = X_train[0].shape\n",
    "\n",
    "''' Shuffle the training data '''\n",
    "X_train, y_train = shuffle(X_train, y_train)\n",
    "print(\"The train data has been shuffled\")"
   ]
  },
  {
   "cell_type": "markdown",
   "metadata": {},
   "source": [
    "### Model Architecture"
   ]
  },
  {
   "cell_type": "code",
   "execution_count": 5,
   "metadata": {
    "collapsed": true
   },
   "outputs": [],
   "source": [
    "### Define your architecture here.\n",
    "### Feel free to use as many code cells as needed.\n",
    "\n",
    "import tensorflow as tf\n",
    "from tensorflow.contrib.layers import flatten\n",
    "\n",
    "\n",
    "def CNN(X):\n",
    "    \n",
    "    ''' Hyperparameters '''\n",
    "    cv_size = 5\n",
    "    \n",
    "    outdepth = {\n",
    "        'cv1' : 6,\n",
    "        'cv2' : 16,\n",
    "        'fc1' : 120,\n",
    "        'fc2' : 84,\n",
    "        'fc3' : n_classes # number of label classes\n",
    "    }\n",
    "        \n",
    "    indepth = {\n",
    "        'cv1' : image_shape[2], # depth of input color channel\n",
    "        'cv2' : 6,\n",
    "        'fc1' : cv_size * cv_size * outdepth['cv2'],\n",
    "        'fc2' : 120,\n",
    "        'fc3' : 84\n",
    "    }\n",
    "    \n",
    "    mu = 0\n",
    "    sigma = 0.1\n",
    "    \n",
    "    W = {\n",
    "        'cv1' : tf.Variable(tf.truncated_normal(shape=(cv_size,cv_size,indepth['cv1'],outdepth['cv1']), mean=mu, stddev=sigma)),\n",
    "        'cv2' : tf.Variable(tf.truncated_normal(shape=(cv_size,cv_size,indepth['cv2'],outdepth['cv2']), mean=mu, stddev=sigma)),\n",
    "        'fc1' : tf.Variable(tf.truncated_normal(shape=(indepth['fc1'],outdepth['fc1']), mean=mu, stddev=sigma)),\n",
    "        'fc2' : tf.Variable(tf.truncated_normal(shape=(indepth['fc2'],outdepth['fc2']), mean=mu, stddev=sigma)),\n",
    "        'fc3' : tf.Variable(tf.truncated_normal(shape=(indepth['fc3'],outdepth['fc3']), mean=mu, stddev=sigma))\n",
    "    }\n",
    "    \n",
    "    b ={\n",
    "        'cv1' : tf.Variable(tf.zeros(outdepth['cv1'])), #tf.Variable(tf.truncated_normal(shape=outdepth['cv1'], mean=mu, stddev=sigma))\n",
    "        'cv2' : tf.Variable(tf.zeros(outdepth['cv2'])),\n",
    "        'fc1' : tf.Variable(tf.zeros(outdepth['fc1'])),\n",
    "        'fc2' : tf.Variable(tf.zeros(outdepth['fc2'])),\n",
    "        'fc3' : tf.Variable(tf.zeros(outdepth['fc3']))\n",
    "    }\n",
    "    \n",
    "    stride = 1\n",
    "    kernel = 2\n",
    "    \n",
    "    keep_porb = 1.0\n",
    "    \n",
    "    ''' Layer1: convolutional, input=32x32x3 ---> 28x28x6 ---> output=14x14x6 '''    \n",
    "    conv1 = tf.nn.bias_add(tf.nn.conv2d(X, W['cv1'], strides=[1,stride,stride,1], padding='VALID'), b['cv1'])\n",
    "    conv1 = tf.nn.relu(conv1)\n",
    "    conv1 = tf.nn.max_pool(conv1, ksize=[1,kernel,kernel,1], strides=[1,kernel,kernel,1], padding='VALID')\n",
    "    \n",
    "    ''' Layer2: convolutional, input=14x14x6 ---> 10x10x16 ---> output=5x5x16 '''\n",
    "    conv2 = tf.nn.bias_add(tf.nn.conv2d(conv1, W['cv2'], strides=[1,stride,stride,1], padding='VALID'), b['cv2'])\n",
    "    conv2 = tf.nn.relu(conv2)\n",
    "    conv2 = tf.nn.max_pool(conv2, ksize=[1,kernel,kernel,1], strides=[1,kernel,kernel,1], padding='VALID')\n",
    "    \n",
    "    ''' flatten, input=5x5x16 ---> output=400 '''\n",
    "    fc0 = flatten(conv2)\n",
    "    \n",
    "    ''' Layer3: fully connection, input=400 ---> output=120 '''\n",
    "    fc1 = tf.add(tf.matmul(fc0, W['fc1']), b['fc1'])\n",
    "    fc1 = tf.nn.relu(fc1)\n",
    "    fc1 = tf.nn.dropout(fc1, keep_porb)\n",
    "    \n",
    "    ''' Layer4: fully connection, input=120 ---> output=84 '''\n",
    "    fc2 = tf.add(tf.matmul(fc1, W['fc2']), b['fc2'])\n",
    "    fc2 = tf.nn.relu(fc2)\n",
    "    fc2 = tf.nn.dropout(fc2, keep_porb)\n",
    "    \n",
    "    ''' Layer5: fully connection, input=84 ---> output=43 '''\n",
    "    logits = tf.add(tf.matmul(fc2, W['fc3']), b['fc3'])\n",
    "    \n",
    "    return logits\n",
    "\n",
    "\n",
    "def Evaluate(X_data, y_data, data_type):\n",
    "    total_accuracy = 0\n",
    "    \n",
    "    for offset in range(0, len(X_data), BATCH_SIZE):\n",
    "        batch_X, batch_y = X_data[offset:offset+BATCH_SIZE], y_data[offset:offset+BATCH_SIZE]\n",
    "        accuracy = sess.run(accuracy_operation, feed_dict={X: batch_X, y: batch_y})\n",
    "        total_accuracy += (accuracy * len(batch_X))\n",
    "            \n",
    "    validation_accuracy = total_accuracy / len(X_data)\n",
    "    print(\"Validation Accuracy by \"+str(data_type)+\" data= {:.3f}\".format(validation_accuracy))\n",
    "    global accuracy_dict\n",
    "    accuracy_dict[data_type] = np.append(accuracy_dict[data_type], validation_accuracy)\n",
    "    \n",
    "    \n",
    "def frange(start, stop, step):\n",
    "    i = start\n",
    "    while i < stop:\n",
    "        yield i\n",
    "        i += step"
   ]
  },
  {
   "cell_type": "markdown",
   "metadata": {},
   "source": [
    "### Train, Validate and Test the Model"
   ]
  },
  {
   "cell_type": "markdown",
   "metadata": {},
   "source": [
    "A validation set can be used to assess how well the model is performing. A low accuracy on the training and validation\n",
    "sets imply underfitting. A high accuracy on the training set but low accuracy on the validation set implies overfitting."
   ]
  },
  {
   "cell_type": "code",
   "execution_count": 6,
   "metadata": {
    "scrolled": false
   },
   "outputs": [
    {
     "name": "stdout",
     "output_type": "stream",
     "text": [
      "Training...\n",
      "\n",
      "EPOCH 1...\n",
      "Validation Accuracy by train data= 0.931\n",
      "Validation Accuracy by valid data= 0.903\n",
      "EPOCH 2...\n",
      "Validation Accuracy by train data= 0.959\n",
      "Validation Accuracy by valid data= 0.927\n",
      "EPOCH 3...\n",
      "Validation Accuracy by train data= 0.962\n",
      "Validation Accuracy by valid data= 0.917\n",
      "EPOCH 4...\n",
      "Validation Accuracy by train data= 0.964\n",
      "Validation Accuracy by valid data= 0.913\n",
      "EPOCH 5...\n",
      "Validation Accuracy by train data= 0.970\n",
      "Validation Accuracy by valid data= 0.917\n",
      "EPOCH 6...\n",
      "Validation Accuracy by train data= 0.977\n",
      "Validation Accuracy by valid data= 0.933\n",
      "EPOCH 7...\n",
      "Validation Accuracy by train data= 0.963\n",
      "Validation Accuracy by valid data= 0.909\n",
      "EPOCH 8...\n",
      "Validation Accuracy by train data= 0.968\n",
      "Validation Accuracy by valid data= 0.914\n",
      "EPOCH 9...\n",
      "Validation Accuracy by train data= 0.976\n",
      "Validation Accuracy by valid data= 0.919\n",
      "EPOCH 10...\n",
      "Validation Accuracy by train data= 0.975\n",
      "Validation Accuracy by valid data= 0.922\n"
     ]
    },
    {
     "data": {
      "image/png": "[encoded data removed]",
      "text/plain": [
       "<matplotlib.figure.Figure at 0x7f20fead05c0>"
      ]
     },
     "metadata": {},
     "output_type": "display_data"
    },
    {
     "name": "stdout",
     "output_type": "stream",
     "text": [
      "Model saved\n",
      "Training...\n",
      "\n",
      "EPOCH 1...\n",
      "Validation Accuracy by train data= 0.940\n",
      "Validation Accuracy by valid data= 0.917\n",
      "EPOCH 2...\n",
      "Validation Accuracy by train data= 0.953\n",
      "Validation Accuracy by valid data= 0.924\n",
      "EPOCH 3...\n",
      "Validation Accuracy by train data= 0.966\n",
      "Validation Accuracy by valid data= 0.938\n",
      "EPOCH 4...\n",
      "Validation Accuracy by train data= 0.969\n",
      "Validation Accuracy by valid data= 0.928\n",
      "EPOCH 5...\n",
      "Validation Accuracy by train data= 0.961\n",
      "Validation Accuracy by valid data= 0.930\n",
      "EPOCH 6...\n",
      "Validation Accuracy by train data= 0.954\n",
      "Validation Accuracy by valid data= 0.919\n",
      "EPOCH 7...\n",
      "Validation Accuracy by train data= 0.968\n",
      "Validation Accuracy by valid data= 0.941\n",
      "EPOCH 8...\n",
      "Validation Accuracy by train data= 0.964\n",
      "Validation Accuracy by valid data= 0.922\n",
      "EPOCH 9...\n",
      "Validation Accuracy by train data= 0.972\n",
      "Validation Accuracy by valid data= 0.945\n",
      "EPOCH 10...\n",
      "Validation Accuracy by train data= 0.976\n",
      "Validation Accuracy by valid data= 0.944\n"
     ]
    },
    {
     "data": {
      "image/png": "[encoded data removed]",
      "text/plain": [
       "<matplotlib.figure.Figure at 0x7f20feb87ac8>"
      ]
     },
     "metadata": {},
     "output_type": "display_data"
    },
    {
     "name": "stdout",
     "output_type": "stream",
     "text": [
      "Model saved\n",
      "Training...\n",
      "\n",
      "EPOCH 1...\n",
      "Validation Accuracy by train data= 0.934\n",
      "Validation Accuracy by valid data= 0.902\n",
      "EPOCH 2...\n",
      "Validation Accuracy by train data= 0.941\n",
      "Validation Accuracy by valid data= 0.918\n",
      "EPOCH 3...\n",
      "Validation Accuracy by train data= 0.941\n",
      "Validation Accuracy by valid data= 0.920\n",
      "EPOCH 4...\n",
      "Validation Accuracy by train data= 0.951\n",
      "Validation Accuracy by valid data= 0.937\n",
      "EPOCH 5...\n",
      "Validation Accuracy by train data= 0.961\n",
      "Validation Accuracy by valid data= 0.927\n",
      "EPOCH 6...\n",
      "Validation Accuracy by train data= 0.956\n",
      "Validation Accuracy by valid data= 0.926\n",
      "EPOCH 7...\n",
      "Validation Accuracy by train data= 0.957\n",
      "Validation Accuracy by valid data= 0.911\n",
      "EPOCH 8...\n",
      "Validation Accuracy by train data= 0.945\n",
      "Validation Accuracy by valid data= 0.919\n",
      "EPOCH 9...\n",
      "Validation Accuracy by train data= 0.946\n",
      "Validation Accuracy by valid data= 0.918\n",
      "EPOCH 10...\n",
      "Validation Accuracy by train data= 0.971\n",
      "Validation Accuracy by valid data= 0.933\n"
     ]
    },
    {
     "data": {
      "image/png": "[encoded data removed]",
      "text/plain": [
       "<matplotlib.figure.Figure at 0x7f21bd39add8>"
      ]
     },
     "metadata": {},
     "output_type": "display_data"
    },
    {
     "name": "stdout",
     "output_type": "stream",
     "text": [
      "Model saved\n"
     ]
    }
   ],
   "source": [
    "### Train your model here.\n",
    "### Calculate and report the accuracy on the training and validation set.\n",
    "### Once a final model architecture is selected,\n",
    "### the accuracy on the test set should be calculated and reported as well.\n",
    "### Feel free to use as many code cells as needed.\n",
    "\n",
    "\n",
    "for learning_rate in frange(0.003, 0.006, 0.001):\n",
    "    ''' Training pipeline '''\n",
    "    #learning_rate = 0.001\n",
    "\n",
    "    X = tf.placeholder(tf.float32, (None, image_shape[0], image_shape[1], image_shape[2]))\n",
    "    y = tf.placeholder(tf.int32, (None))\n",
    "    y_one_hot = tf.one_hot(y, n_classes)\n",
    "\n",
    "    logits = CNN(X)\n",
    "    cross_entropy = tf.nn.softmax_cross_entropy_with_logits(labels=y_one_hot, logits=logits)\n",
    "    #print(\"cross_entorpy is {}\".format(cross_entropy))\n",
    "    loss_operation = tf.reduce_mean(cross_entropy)\n",
    "    #print(\"loss_operation is {}\".format(loss_operation))\n",
    "    optimizer = tf.train.AdamOptimizer(learning_rate=learning_rate)\n",
    "    #training_operation = optimizer.minimize(loss_operation)\n",
    "    training_operation = tf.train.AdamOptimizer(learning_rate=learning_rate).minimize(loss_operation)\n",
    "\n",
    "\n",
    "    ''' Model evaluation pipeline'''\n",
    "    correct_prediction = tf.equal(tf.argmax(logits, 1), tf.argmax(y_one_hot, 1))\n",
    "    #print(\"correct_prediction is {}\".format(correct_prediction))\n",
    "    accuracy_operation = tf.reduce_mean(tf.cast(correct_prediction, tf.float32))\n",
    "\n",
    "\n",
    "    ''' Train and valid the model '''\n",
    "    for EPOCHS in range(10, 11, 1):\n",
    "        #EPOCHS = 10\n",
    "        BATCH_SIZE = 128\n",
    "\n",
    "        saver = tf.train.Saver()\n",
    "\n",
    "        with tf.Session() as sess:\n",
    "            sess.run(tf.global_variables_initializer())\n",
    "            print(\"Training...\\n\")\n",
    "\n",
    "            accuracy_dict = {'train':np.array([0]), 'valid':np.array([0])}\n",
    "            clear_line = np.array([0.93])\n",
    "                \n",
    "            for i in range(EPOCHS):\n",
    "                print(\"EPOCH {}...\".format(i+1))\n",
    "\n",
    "                # Training\n",
    "                X_train, y_train = shuffle(X_train, y_train)\n",
    "                for offset in range(0, len(X_train), BATCH_SIZE):\n",
    "                    batch_X, batch_y = X_train[offset:offset+BATCH_SIZE], y_train[offset:offset+BATCH_SIZE]\n",
    "                    sess.run(training_operation, feed_dict={X: batch_X, y: batch_y})\n",
    "\n",
    "                # Validation by train data\n",
    "                Evaluate(X_train, y_train, 'train')\n",
    "\n",
    "                # Validation by valid data\n",
    "                Evaluate(X_valid, y_valid, 'valid')\n",
    "\n",
    "                # Clear line (93%)\n",
    "                clear_line = np.append(clear_line, 0.93)\n",
    "            #ENDFOR_i\n",
    "\n",
    "            # Show the result on graph\n",
    "            epoch = np.arange(0, EPOCHS+1, 1)\n",
    "            plt.axis([0,EPOCHS, 0.0,1.0])\n",
    "            plt.plot(epoch,accuracy_dict['train'], epoch,accuracy_dict['valid'], epoch,clear_line,'r--', label=learning_rate)\n",
    "            plt.legend()\n",
    "            plt.show()\n",
    "            \n",
    "            saver.save(sess, './lenet')\n",
    "            print(\"Model saved\")\n",
    "        #ENDWITH_SESS\n",
    "    #ENDFOR_EPOCHS\n",
    "#ENDFOR_learning_rate\n"
   ]
  },
  {
   "cell_type": "markdown",
   "metadata": {},
   "source": [
    "---\n",
    "\n",
    "## Step 3: Test a Model on New Images\n",
    "\n",
    "To give yourself more insight into how your model is working, download at least five pictures of German traffic signs from the web and use your model to predict the traffic sign type.\n",
    "\n",
    "You may find `signnames.csv` useful as it contains mappings from the class id (integer) to the actual sign name."
   ]
  },
  {
   "cell_type": "markdown",
   "metadata": {},
   "source": [
    "### Load and Output the Images"
   ]
  },
  {
   "cell_type": "code",
   "execution_count": 7,
   "metadata": {
    "collapsed": true
   },
   "outputs": [],
   "source": [
    "### Load the images and plot them here.\n",
    "### Feel free to use as many code cells as needed."
   ]
  },
  {
   "cell_type": "markdown",
   "metadata": {},
   "source": [
    "### Predict the Sign Type for Each Image"
   ]
  },
  {
   "cell_type": "code",
   "execution_count": 8,
   "metadata": {
    "collapsed": true
   },
   "outputs": [],
   "source": [
    "### Run the predictions here and use the model to output the prediction for each image.\n",
    "### Make sure to pre-process the images with the same pre-processing pipeline used earlier.\n",
    "### Feel free to use as many code cells as needed."
   ]
  },
  {
   "cell_type": "markdown",
   "metadata": {},
   "source": [
    "### Analyze Performance"
   ]
  },
  {
   "cell_type": "code",
   "execution_count": 9,
   "metadata": {
    "collapsed": true
   },
   "outputs": [],
   "source": [
    "### Calculate the accuracy for these 5 new images. \n",
    "### For example, if the model predicted 1 out of 5 signs correctly, it's 20% accurate on these new images."
   ]
  },
  {
   "cell_type": "markdown",
   "metadata": {},
   "source": [
    "### Output Top 5 Softmax Probabilities For Each Image Found on the Web"
   ]
  },
  {
   "cell_type": "markdown",
   "metadata": {},
   "source": [
    "For each of the new images, print out the model's softmax probabilities to show the **certainty** of the model's predictions (limit the output to the top 5 probabilities for each image). [`tf.nn.top_k`](https://www.tensorflow.org/versions/r0.12/api_docs/python/nn.html#top_k) could prove helpful here. \n",
    "\n",
    "The example below demonstrates how tf.nn.top_k can be used to find the top k predictions for each image.\n",
    "\n",
    "`tf.nn.top_k` will return the values and indices (class ids) of the top k predictions. So if k=3, for each sign, it'll return the 3 largest probabilities (out of a possible 43) and the correspoding class ids.\n",
    "\n",
    "Take this numpy array as an example. The values in the array represent predictions. The array contains softmax probabilities for five candidate images with six possible classes. `tf.nn.top_k` is used to choose the three classes with the highest probability:\n",
    "\n",
    "```\n",
    "# (5, 6) array\n",
    "a = np.array([[ 0.24879643,  0.07032244,  0.12641572,  0.34763842,  0.07893497,\n",
    "         0.12789202],\n",
    "       [ 0.28086119,  0.27569815,  0.08594638,  0.0178669 ,  0.18063401,\n",
    "         0.15899337],\n",
    "       [ 0.26076848,  0.23664738,  0.08020603,  0.07001922,  0.1134371 ,\n",
    "         0.23892179],\n",
    "       [ 0.11943333,  0.29198961,  0.02605103,  0.26234032,  0.1351348 ,\n",
    "         0.16505091],\n",
    "       [ 0.09561176,  0.34396535,  0.0643941 ,  0.16240774,  0.24206137,\n",
    "         0.09155967]])\n",
    "```\n",
    "\n",
    "Running it through `sess.run(tf.nn.top_k(tf.constant(a), k=3))` produces:\n",
    "\n",
    "```\n",
    "TopKV2(values=array([[ 0.34763842,  0.24879643,  0.12789202],\n",
    "       [ 0.28086119,  0.27569815,  0.18063401],\n",
    "       [ 0.26076848,  0.23892179,  0.23664738],\n",
    "       [ 0.29198961,  0.26234032,  0.16505091],\n",
    "       [ 0.34396535,  0.24206137,  0.16240774]]), indices=array([[3, 0, 5],\n",
    "       [0, 1, 4],\n",
    "       [0, 5, 1],\n",
    "       [1, 3, 5],\n",
    "       [1, 4, 3]], dtype=int32))\n",
    "```\n",
    "\n",
    "Looking just at the first row we get `[ 0.34763842,  0.24879643,  0.12789202]`, you can confirm these are the 3 largest probabilities in `a`. You'll also notice `[3, 0, 5]` are the corresponding indices."
   ]
  },
  {
   "cell_type": "code",
   "execution_count": 10,
   "metadata": {
    "collapsed": true
   },
   "outputs": [],
   "source": [
    "### Print out the top five softmax probabilities for the predictions on the German traffic sign images found on the web. \n",
    "### Feel free to use as many code cells as needed."
   ]
  },
  {
   "cell_type": "markdown",
   "metadata": {},
   "source": [
    "### Project Writeup\n",
    "\n",
    "Once you have completed the code implementation, document your results in a project writeup using this [template](https://github.com/udacity/CarND-Traffic-Sign-Classifier-Project/blob/master/writeup_template.md) as a guide. The writeup can be in a markdown or pdf file. "
   ]
  },
  {
   "cell_type": "markdown",
   "metadata": {},
   "source": [
    "> **Note**: Once you have completed all of the code implementations and successfully answered each question above, you may finalize your work by exporting the iPython Notebook as an HTML document. You can do this by using the menu above and navigating to  \\n\",\n",
    "    \"**File -> Download as -> HTML (.html)**. Include the finished document along with this notebook as your submission."
   ]
  },
  {
   "cell_type": "markdown",
   "metadata": {},
   "source": [
    "---\n",
    "\n",
    "## Step 4 (Optional): Visualize the Neural Network's State with Test Images\n",
    "\n",
    " This Section is not required to complete but acts as an additional excersise for understaning the output of a neural network's weights. While neural networks can be a great learning device they are often referred to as a black box. We can understand what the weights of a neural network look like better by plotting their feature maps. After successfully training your neural network you can see what it's feature maps look like by plotting the output of the network's weight layers in response to a test stimuli image. From these plotted feature maps, it's possible to see what characteristics of an image the network finds interesting. For a sign, maybe the inner network feature maps react with high activation to the sign's boundary outline or to the contrast in the sign's painted symbol.\n",
    "\n",
    " Provided for you below is the function code that allows you to get the visualization output of any tensorflow weight layer you want. The inputs to the function should be a stimuli image, one used during training or a new one you provided, and then the tensorflow variable name that represents the layer's state during the training process, for instance if you wanted to see what the [LeNet lab's](https://classroom.udacity.com/nanodegrees/nd013/parts/fbf77062-5703-404e-b60c-95b78b2f3f9e/modules/6df7ae49-c61c-4bb2-a23e-6527e69209ec/lessons/601ae704-1035-4287-8b11-e2c2716217ad/concepts/d4aca031-508f-4e0b-b493-e7b706120f81) feature maps looked like for it's second convolutional layer you could enter conv2 as the tf_activation variable.\n",
    "\n",
    "For an example of what feature map outputs look like, check out NVIDIA's results in their paper [End-to-End Deep Learning for Self-Driving Cars](https://devblogs.nvidia.com/parallelforall/deep-learning-self-driving-cars/) in the section Visualization of internal CNN State. NVIDIA was able to show that their network's inner weights had high activations to road boundary lines by comparing feature maps from an image with a clear path to one without. Try experimenting with a similar test to show that your trained network's weights are looking for interesting features, whether it's looking at differences in feature maps from images with or without a sign, or even what feature maps look like in a trained network vs a completely untrained one on the same sign image.\n",
    "\n",
    "<figure>\n",
    " <img src=\"visualize_cnn.png\" width=\"380\" alt=\"Combined Image\" />\n",
    " <figcaption>\n",
    " <p></p> \n",
    " <p style=\"text-align: center;\"> Your output should look something like this (above)</p> \n",
    " </figcaption>\n",
    "</figure>\n",
    " <p></p> \n"
   ]
  },
  {
   "cell_type": "code",
   "execution_count": 11,
   "metadata": {
    "collapsed": true
   },
   "outputs": [],
   "source": [
    "### Visualize your network's feature maps here.\n",
    "### Feel free to use as many code cells as needed.\n",
    "\n",
    "# image_input: the test image being fed into the network to produce the feature maps\n",
    "# tf_activation: should be a tf variable name used during your training procedure that represents the calculated state of a specific weight layer\n",
    "# activation_min/max: can be used to view the activation contrast in more detail, by default matplot sets min and max to the actual min and max values of the output\n",
    "# plt_num: used to plot out multiple different weight feature map sets on the same block, just extend the plt number for each new feature map entry\n",
    "\n",
    "def outputFeatureMap(image_input, tf_activation, activation_min=-1, activation_max=-1 ,plt_num=1):\n",
    "    # Here make sure to preprocess your image_input in a way your network expects\n",
    "    # with size, normalization, ect if needed\n",
    "    # image_input =\n",
    "    # Note: x should be the same name as your network's tensorflow data placeholder variable\n",
    "    # If you get an error tf_activation is not defined it may be having trouble accessing the variable from inside a function\n",
    "    activation = tf_activation.eval(session=sess,feed_dict={x : image_input})\n",
    "    featuremaps = activation.shape[3]\n",
    "    plt.figure(plt_num, figsize=(15,15))\n",
    "    for featuremap in range(featuremaps):\n",
    "        plt.subplot(6,8, featuremap+1) # sets the number of feature maps to show on each row and column\n",
    "        plt.title('FeatureMap ' + str(featuremap)) # displays the feature map number\n",
    "        if activation_min != -1 & activation_max != -1:\n",
    "            plt.imshow(activation[0,:,:, featuremap], interpolation=\"nearest\", vmin =activation_min, vmax=activation_max, cmap=\"gray\")\n",
    "        elif activation_max != -1:\n",
    "            plt.imshow(activation[0,:,:, featuremap], interpolation=\"nearest\", vmax=activation_max, cmap=\"gray\")\n",
    "        elif activation_min !=-1:\n",
    "            plt.imshow(activation[0,:,:, featuremap], interpolation=\"nearest\", vmin=activation_min, cmap=\"gray\")\n",
    "        else:\n",
    "            plt.imshow(activation[0,:,:, featuremap], interpolation=\"nearest\", cmap=\"gray\")"
   ]
  }
 ],
 "metadata": {
  "anaconda-cloud": {},
  "kernelspec": {
   "display_name": "Python 3",
   "language": "python",
   "name": "python3"
  },
  "language_info": {
   "codemirror_mode": {
    "name": "ipython",
    "version": 3
   },
   "file_extension": ".py",
   "mimetype": "text/x-python",
   "name": "python",
   "nbconvert_exporter": "python",
   "pygments_lexer": "ipython3",
   "version": "3.5.2"
  },
  "widgets": {
   "state": {},
   "version": "1.1.2"
  }
 },
 "nbformat": 4,
 "nbformat_minor": 1
}
